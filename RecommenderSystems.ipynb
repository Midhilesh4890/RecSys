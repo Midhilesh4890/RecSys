{
  "nbformat": 4,
  "nbformat_minor": 0,
  "metadata": {
    "kernelspec": {
      "display_name": "Python 3",
      "name": "python3"
    },
    "language_info": {
      "codemirror_mode": {
        "name": "ipython",
        "version": 3
      },
      "file_extension": ".py",
      "mimetype": "text/x-python",
      "name": "python",
      "nbconvert_exporter": "python",
      "pygments_lexer": "ipython3",
      "version": "3.8.5"
    },
    "colab": {
      "provenance": [],
      "toc_visible": true,
      "gpuType": "T4",
      "include_colab_link": true
    },
    "accelerator": "TPU"
  },
  "cells": [
    {
      "cell_type": "markdown",
      "metadata": {
        "id": "view-in-github",
        "colab_type": "text"
      },
      "source": [
        "<a href=\"https://colab.research.google.com/github/Midhilesh4890/RecSys/blob/main/RecommenderSystems.ipynb\" target=\"_parent\"><img src=\"https://colab.research.google.com/assets/colab-badge.svg\" alt=\"Open In Colab\"/></a>"
      ]
    },
    {
      "cell_type": "code",
      "metadata": {
        "_uuid": "e7177c0beb8bfd5bcc61e894a8f766bd0d772c0d",
        "id": "Z4J-lRvJCa4j"
      },
      "source": [
        "import numpy as np\n",
        "import pandas as pd"
      ],
      "execution_count": null,
      "outputs": []
    },
    {
      "cell_type": "code",
      "metadata": {
        "colab": {
          "base_uri": "https://localhost:8080/"
        },
        "id": "uW9NU8zYGm5P",
        "outputId": "886f5263-9cc3-4a4f-d82c-d2369612007a"
      },
      "source": [
        "from google.colab import drive\n",
        "drive.mount('/content/drive')"
      ],
      "execution_count": null,
      "outputs": [
        {
          "output_type": "stream",
          "name": "stdout",
          "text": [
            "Mounted at /content/drive\n"
          ]
        }
      ]
    },
    {
      "cell_type": "code",
      "metadata": {
        "_uuid": "29fff6150a1e3b207ff00d290ff9a2aca8607e61",
        "id": "IUR15nk4Ca4m",
        "colab": {
          "base_uri": "https://localhost:8080/"
        },
        "outputId": "50c6a448-d9dc-4243-98e4-10c0bc728a1c"
      },
      "source": [
        "ratings = pd.read_csv(\"/content/drive/MyDrive/movie-recommendation-prodlem-dataset/ratings.csv\")\n",
        "movies = pd.read_csv(\"/content/drive/MyDrive/movie-recommendation-prodlem-dataset/movies_metadata.csv.zip\")\n",
        "credits = pd.read_csv('/content/drive/MyDrive/movie-recommendation-prodlem-dataset/credits.csv.zip')"
      ],
      "execution_count": null,
      "outputs": [
        {
          "output_type": "stream",
          "name": "stderr",
          "text": [
            "<ipython-input-3-baf3cb885775>:2: DtypeWarning: Columns (10) have mixed types. Specify dtype option on import or set low_memory=False.\n",
            "  movies = pd.read_csv(\"/content/drive/MyDrive/movie-recommendation-prodlem-dataset/movies_metadata.csv.zip\")\n"
          ]
        }
      ]
    },
    {
      "cell_type": "code",
      "metadata": {
        "_uuid": "fcac0d2765312b26d17f4b95fe1632b99bfbe0e1",
        "id": "5Dj6p5IJCa4o",
        "colab": {
          "base_uri": "https://localhost:8080/"
        },
        "outputId": "aeea47f8-1484-4d66-eb12-cc98414f7dbc"
      },
      "source": [
        "ratings.shape"
      ],
      "execution_count": null,
      "outputs": [
        {
          "output_type": "execute_result",
          "data": {
            "text/plain": [
              "(25000095, 4)"
            ]
          },
          "metadata": {},
          "execution_count": 4
        }
      ]
    },
    {
      "cell_type": "code",
      "metadata": {
        "_uuid": "8fbc44d1968d99f19f6d8bebed1be5355bab40e4",
        "id": "_4VihF-6Ca4o",
        "colab": {
          "base_uri": "https://localhost:8080/"
        },
        "outputId": "f3bdf046-2627-4055-aa38-28a880a249fb"
      },
      "source": [
        "ratings.head()"
      ],
      "execution_count": null,
      "outputs": [
        {
          "output_type": "execute_result",
          "data": {
            "text/plain": [
              "   userId  movieId  rating   timestamp\n",
              "0       1      296     5.0  1147880044\n",
              "1       1      306     3.5  1147868817\n",
              "2       1      307     5.0  1147868828\n",
              "3       1      665     5.0  1147878820\n",
              "4       1      899     3.5  1147868510"
            ],
            "text/html": [
              "\n",
              "  <div id=\"df-2a7b226d-0708-4f6b-a5d0-f055ecdc5a63\">\n",
              "    <div class=\"colab-df-container\">\n",
              "      <div>\n",
              "<style scoped>\n",
              "    .dataframe tbody tr th:only-of-type {\n",
              "        vertical-align: middle;\n",
              "    }\n",
              "\n",
              "    .dataframe tbody tr th {\n",
              "        vertical-align: top;\n",
              "    }\n",
              "\n",
              "    .dataframe thead th {\n",
              "        text-align: right;\n",
              "    }\n",
              "</style>\n",
              "<table border=\"1\" class=\"dataframe\">\n",
              "  <thead>\n",
              "    <tr style=\"text-align: right;\">\n",
              "      <th></th>\n",
              "      <th>userId</th>\n",
              "      <th>movieId</th>\n",
              "      <th>rating</th>\n",
              "      <th>timestamp</th>\n",
              "    </tr>\n",
              "  </thead>\n",
              "  <tbody>\n",
              "    <tr>\n",
              "      <th>0</th>\n",
              "      <td>1</td>\n",
              "      <td>296</td>\n",
              "      <td>5.0</td>\n",
              "      <td>1147880044</td>\n",
              "    </tr>\n",
              "    <tr>\n",
              "      <th>1</th>\n",
              "      <td>1</td>\n",
              "      <td>306</td>\n",
              "      <td>3.5</td>\n",
              "      <td>1147868817</td>\n",
              "    </tr>\n",
              "    <tr>\n",
              "      <th>2</th>\n",
              "      <td>1</td>\n",
              "      <td>307</td>\n",
              "      <td>5.0</td>\n",
              "      <td>1147868828</td>\n",
              "    </tr>\n",
              "    <tr>\n",
              "      <th>3</th>\n",
              "      <td>1</td>\n",
              "      <td>665</td>\n",
              "      <td>5.0</td>\n",
              "      <td>1147878820</td>\n",
              "    </tr>\n",
              "    <tr>\n",
              "      <th>4</th>\n",
              "      <td>1</td>\n",
              "      <td>899</td>\n",
              "      <td>3.5</td>\n",
              "      <td>1147868510</td>\n",
              "    </tr>\n",
              "  </tbody>\n",
              "</table>\n",
              "</div>\n",
              "      <button class=\"colab-df-convert\" onclick=\"convertToInteractive('df-2a7b226d-0708-4f6b-a5d0-f055ecdc5a63')\"\n",
              "              title=\"Convert this dataframe to an interactive table.\"\n",
              "              style=\"display:none;\">\n",
              "        \n",
              "  <svg xmlns=\"http://www.w3.org/2000/svg\" height=\"24px\"viewBox=\"0 0 24 24\"\n",
              "       width=\"24px\">\n",
              "    <path d=\"M0 0h24v24H0V0z\" fill=\"none\"/>\n",
              "    <path d=\"M18.56 5.44l.94 2.06.94-2.06 2.06-.94-2.06-.94-.94-2.06-.94 2.06-2.06.94zm-11 1L8.5 8.5l.94-2.06 2.06-.94-2.06-.94L8.5 2.5l-.94 2.06-2.06.94zm10 10l.94 2.06.94-2.06 2.06-.94-2.06-.94-.94-2.06-.94 2.06-2.06.94z\"/><path d=\"M17.41 7.96l-1.37-1.37c-.4-.4-.92-.59-1.43-.59-.52 0-1.04.2-1.43.59L10.3 9.45l-7.72 7.72c-.78.78-.78 2.05 0 2.83L4 21.41c.39.39.9.59 1.41.59.51 0 1.02-.2 1.41-.59l7.78-7.78 2.81-2.81c.8-.78.8-2.07 0-2.86zM5.41 20L4 18.59l7.72-7.72 1.47 1.35L5.41 20z\"/>\n",
              "  </svg>\n",
              "      </button>\n",
              "      \n",
              "  <style>\n",
              "    .colab-df-container {\n",
              "      display:flex;\n",
              "      flex-wrap:wrap;\n",
              "      gap: 12px;\n",
              "    }\n",
              "\n",
              "    .colab-df-convert {\n",
              "      background-color: #E8F0FE;\n",
              "      border: none;\n",
              "      border-radius: 50%;\n",
              "      cursor: pointer;\n",
              "      display: none;\n",
              "      fill: #1967D2;\n",
              "      height: 32px;\n",
              "      padding: 0 0 0 0;\n",
              "      width: 32px;\n",
              "    }\n",
              "\n",
              "    .colab-df-convert:hover {\n",
              "      background-color: #E2EBFA;\n",
              "      box-shadow: 0px 1px 2px rgba(60, 64, 67, 0.3), 0px 1px 3px 1px rgba(60, 64, 67, 0.15);\n",
              "      fill: #174EA6;\n",
              "    }\n",
              "\n",
              "    [theme=dark] .colab-df-convert {\n",
              "      background-color: #3B4455;\n",
              "      fill: #D2E3FC;\n",
              "    }\n",
              "\n",
              "    [theme=dark] .colab-df-convert:hover {\n",
              "      background-color: #434B5C;\n",
              "      box-shadow: 0px 1px 3px 1px rgba(0, 0, 0, 0.15);\n",
              "      filter: drop-shadow(0px 1px 2px rgba(0, 0, 0, 0.3));\n",
              "      fill: #FFFFFF;\n",
              "    }\n",
              "  </style>\n",
              "\n",
              "      <script>\n",
              "        const buttonEl =\n",
              "          document.querySelector('#df-2a7b226d-0708-4f6b-a5d0-f055ecdc5a63 button.colab-df-convert');\n",
              "        buttonEl.style.display =\n",
              "          google.colab.kernel.accessAllowed ? 'block' : 'none';\n",
              "\n",
              "        async function convertToInteractive(key) {\n",
              "          const element = document.querySelector('#df-2a7b226d-0708-4f6b-a5d0-f055ecdc5a63');\n",
              "          const dataTable =\n",
              "            await google.colab.kernel.invokeFunction('convertToInteractive',\n",
              "                                                     [key], {});\n",
              "          if (!dataTable) return;\n",
              "\n",
              "          const docLinkHtml = 'Like what you see? Visit the ' +\n",
              "            '<a target=\"_blank\" href=https://colab.research.google.com/notebooks/data_table.ipynb>data table notebook</a>'\n",
              "            + ' to learn more about interactive tables.';\n",
              "          element.innerHTML = '';\n",
              "          dataTable['output_type'] = 'display_data';\n",
              "          await google.colab.output.renderOutput(dataTable, element);\n",
              "          const docLink = document.createElement('div');\n",
              "          docLink.innerHTML = docLinkHtml;\n",
              "          element.appendChild(docLink);\n",
              "        }\n",
              "      </script>\n",
              "    </div>\n",
              "  </div>\n",
              "  "
            ]
          },
          "metadata": {},
          "execution_count": 5
        }
      ]
    },
    {
      "cell_type": "code",
      "metadata": {
        "_uuid": "39e1d6e203d5de347590d50fcd940ae59d6ee785",
        "id": "Vjva36WxCa4p",
        "colab": {
          "base_uri": "https://localhost:8080/"
        },
        "outputId": "f27b38a0-fa7e-4414-8d75-65cd86b5cb8b"
      },
      "source": [
        "movies.head()"
      ],
      "execution_count": null,
      "outputs": [
        {
          "output_type": "execute_result",
          "data": {
            "text/plain": [
              "   adult                              belongs_to_collection    budget  \\\n",
              "0  False  {'id': 10194, 'name': 'Toy Story Collection', ...  30000000   \n",
              "1  False                                                NaN  65000000   \n",
              "2  False  {'id': 119050, 'name': 'Grumpy Old Men Collect...         0   \n",
              "3  False                                                NaN  16000000   \n",
              "4  False  {'id': 96871, 'name': 'Father of the Bride Col...         0   \n",
              "\n",
              "                                              genres  \\\n",
              "0  [{'id': 16, 'name': 'Animation'}, {'id': 35, '...   \n",
              "1  [{'id': 12, 'name': 'Adventure'}, {'id': 14, '...   \n",
              "2  [{'id': 10749, 'name': 'Romance'}, {'id': 35, ...   \n",
              "3  [{'id': 35, 'name': 'Comedy'}, {'id': 18, 'nam...   \n",
              "4                     [{'id': 35, 'name': 'Comedy'}]   \n",
              "\n",
              "                               homepage     id    imdb_id original_language  \\\n",
              "0  http://toystory.disney.com/toy-story    862  tt0114709                en   \n",
              "1                                   NaN   8844  tt0113497                en   \n",
              "2                                   NaN  15602  tt0113228                en   \n",
              "3                                   NaN  31357  tt0114885                en   \n",
              "4                                   NaN  11862  tt0113041                en   \n",
              "\n",
              "                original_title  \\\n",
              "0                    Toy Story   \n",
              "1                      Jumanji   \n",
              "2             Grumpier Old Men   \n",
              "3            Waiting to Exhale   \n",
              "4  Father of the Bride Part II   \n",
              "\n",
              "                                            overview  ... release_date  \\\n",
              "0  Led by Woody, Andy's toys live happily in his ...  ...   1995-10-30   \n",
              "1  When siblings Judy and Peter discover an encha...  ...   1995-12-15   \n",
              "2  A family wedding reignites the ancient feud be...  ...   1995-12-22   \n",
              "3  Cheated on, mistreated and stepped on, the wom...  ...   1995-12-22   \n",
              "4  Just when George Banks has recovered from his ...  ...   1995-02-10   \n",
              "\n",
              "       revenue runtime                                   spoken_languages  \\\n",
              "0  373554033.0    81.0           [{'iso_639_1': 'en', 'name': 'English'}]   \n",
              "1  262797249.0   104.0  [{'iso_639_1': 'en', 'name': 'English'}, {'iso...   \n",
              "2          0.0   101.0           [{'iso_639_1': 'en', 'name': 'English'}]   \n",
              "3   81452156.0   127.0           [{'iso_639_1': 'en', 'name': 'English'}]   \n",
              "4   76578911.0   106.0           [{'iso_639_1': 'en', 'name': 'English'}]   \n",
              "\n",
              "     status                                            tagline  \\\n",
              "0  Released                                                NaN   \n",
              "1  Released          Roll the dice and unleash the excitement!   \n",
              "2  Released  Still Yelling. Still Fighting. Still Ready for...   \n",
              "3  Released  Friends are the people who let you be yourself...   \n",
              "4  Released  Just When His World Is Back To Normal... He's ...   \n",
              "\n",
              "                         title  video vote_average vote_count  \n",
              "0                    Toy Story  False          7.7     5415.0  \n",
              "1                      Jumanji  False          6.9     2413.0  \n",
              "2             Grumpier Old Men  False          6.5       92.0  \n",
              "3            Waiting to Exhale  False          6.1       34.0  \n",
              "4  Father of the Bride Part II  False          5.7      173.0  \n",
              "\n",
              "[5 rows x 24 columns]"
            ],
            "text/html": [
              "\n",
              "  <div id=\"df-017d311b-8a93-437b-90cf-4a4733021932\">\n",
              "    <div class=\"colab-df-container\">\n",
              "      <div>\n",
              "<style scoped>\n",
              "    .dataframe tbody tr th:only-of-type {\n",
              "        vertical-align: middle;\n",
              "    }\n",
              "\n",
              "    .dataframe tbody tr th {\n",
              "        vertical-align: top;\n",
              "    }\n",
              "\n",
              "    .dataframe thead th {\n",
              "        text-align: right;\n",
              "    }\n",
              "</style>\n",
              "<table border=\"1\" class=\"dataframe\">\n",
              "  <thead>\n",
              "    <tr style=\"text-align: right;\">\n",
              "      <th></th>\n",
              "      <th>adult</th>\n",
              "      <th>belongs_to_collection</th>\n",
              "      <th>budget</th>\n",
              "      <th>genres</th>\n",
              "      <th>homepage</th>\n",
              "      <th>id</th>\n",
              "      <th>imdb_id</th>\n",
              "      <th>original_language</th>\n",
              "      <th>original_title</th>\n",
              "      <th>overview</th>\n",
              "      <th>...</th>\n",
              "      <th>release_date</th>\n",
              "      <th>revenue</th>\n",
              "      <th>runtime</th>\n",
              "      <th>spoken_languages</th>\n",
              "      <th>status</th>\n",
              "      <th>tagline</th>\n",
              "      <th>title</th>\n",
              "      <th>video</th>\n",
              "      <th>vote_average</th>\n",
              "      <th>vote_count</th>\n",
              "    </tr>\n",
              "  </thead>\n",
              "  <tbody>\n",
              "    <tr>\n",
              "      <th>0</th>\n",
              "      <td>False</td>\n",
              "      <td>{'id': 10194, 'name': 'Toy Story Collection', ...</td>\n",
              "      <td>30000000</td>\n",
              "      <td>[{'id': 16, 'name': 'Animation'}, {'id': 35, '...</td>\n",
              "      <td>http://toystory.disney.com/toy-story</td>\n",
              "      <td>862</td>\n",
              "      <td>tt0114709</td>\n",
              "      <td>en</td>\n",
              "      <td>Toy Story</td>\n",
              "      <td>Led by Woody, Andy's toys live happily in his ...</td>\n",
              "      <td>...</td>\n",
              "      <td>1995-10-30</td>\n",
              "      <td>373554033.0</td>\n",
              "      <td>81.0</td>\n",
              "      <td>[{'iso_639_1': 'en', 'name': 'English'}]</td>\n",
              "      <td>Released</td>\n",
              "      <td>NaN</td>\n",
              "      <td>Toy Story</td>\n",
              "      <td>False</td>\n",
              "      <td>7.7</td>\n",
              "      <td>5415.0</td>\n",
              "    </tr>\n",
              "    <tr>\n",
              "      <th>1</th>\n",
              "      <td>False</td>\n",
              "      <td>NaN</td>\n",
              "      <td>65000000</td>\n",
              "      <td>[{'id': 12, 'name': 'Adventure'}, {'id': 14, '...</td>\n",
              "      <td>NaN</td>\n",
              "      <td>8844</td>\n",
              "      <td>tt0113497</td>\n",
              "      <td>en</td>\n",
              "      <td>Jumanji</td>\n",
              "      <td>When siblings Judy and Peter discover an encha...</td>\n",
              "      <td>...</td>\n",
              "      <td>1995-12-15</td>\n",
              "      <td>262797249.0</td>\n",
              "      <td>104.0</td>\n",
              "      <td>[{'iso_639_1': 'en', 'name': 'English'}, {'iso...</td>\n",
              "      <td>Released</td>\n",
              "      <td>Roll the dice and unleash the excitement!</td>\n",
              "      <td>Jumanji</td>\n",
              "      <td>False</td>\n",
              "      <td>6.9</td>\n",
              "      <td>2413.0</td>\n",
              "    </tr>\n",
              "    <tr>\n",
              "      <th>2</th>\n",
              "      <td>False</td>\n",
              "      <td>{'id': 119050, 'name': 'Grumpy Old Men Collect...</td>\n",
              "      <td>0</td>\n",
              "      <td>[{'id': 10749, 'name': 'Romance'}, {'id': 35, ...</td>\n",
              "      <td>NaN</td>\n",
              "      <td>15602</td>\n",
              "      <td>tt0113228</td>\n",
              "      <td>en</td>\n",
              "      <td>Grumpier Old Men</td>\n",
              "      <td>A family wedding reignites the ancient feud be...</td>\n",
              "      <td>...</td>\n",
              "      <td>1995-12-22</td>\n",
              "      <td>0.0</td>\n",
              "      <td>101.0</td>\n",
              "      <td>[{'iso_639_1': 'en', 'name': 'English'}]</td>\n",
              "      <td>Released</td>\n",
              "      <td>Still Yelling. Still Fighting. Still Ready for...</td>\n",
              "      <td>Grumpier Old Men</td>\n",
              "      <td>False</td>\n",
              "      <td>6.5</td>\n",
              "      <td>92.0</td>\n",
              "    </tr>\n",
              "    <tr>\n",
              "      <th>3</th>\n",
              "      <td>False</td>\n",
              "      <td>NaN</td>\n",
              "      <td>16000000</td>\n",
              "      <td>[{'id': 35, 'name': 'Comedy'}, {'id': 18, 'nam...</td>\n",
              "      <td>NaN</td>\n",
              "      <td>31357</td>\n",
              "      <td>tt0114885</td>\n",
              "      <td>en</td>\n",
              "      <td>Waiting to Exhale</td>\n",
              "      <td>Cheated on, mistreated and stepped on, the wom...</td>\n",
              "      <td>...</td>\n",
              "      <td>1995-12-22</td>\n",
              "      <td>81452156.0</td>\n",
              "      <td>127.0</td>\n",
              "      <td>[{'iso_639_1': 'en', 'name': 'English'}]</td>\n",
              "      <td>Released</td>\n",
              "      <td>Friends are the people who let you be yourself...</td>\n",
              "      <td>Waiting to Exhale</td>\n",
              "      <td>False</td>\n",
              "      <td>6.1</td>\n",
              "      <td>34.0</td>\n",
              "    </tr>\n",
              "    <tr>\n",
              "      <th>4</th>\n",
              "      <td>False</td>\n",
              "      <td>{'id': 96871, 'name': 'Father of the Bride Col...</td>\n",
              "      <td>0</td>\n",
              "      <td>[{'id': 35, 'name': 'Comedy'}]</td>\n",
              "      <td>NaN</td>\n",
              "      <td>11862</td>\n",
              "      <td>tt0113041</td>\n",
              "      <td>en</td>\n",
              "      <td>Father of the Bride Part II</td>\n",
              "      <td>Just when George Banks has recovered from his ...</td>\n",
              "      <td>...</td>\n",
              "      <td>1995-02-10</td>\n",
              "      <td>76578911.0</td>\n",
              "      <td>106.0</td>\n",
              "      <td>[{'iso_639_1': 'en', 'name': 'English'}]</td>\n",
              "      <td>Released</td>\n",
              "      <td>Just When His World Is Back To Normal... He's ...</td>\n",
              "      <td>Father of the Bride Part II</td>\n",
              "      <td>False</td>\n",
              "      <td>5.7</td>\n",
              "      <td>173.0</td>\n",
              "    </tr>\n",
              "  </tbody>\n",
              "</table>\n",
              "<p>5 rows × 24 columns</p>\n",
              "</div>\n",
              "      <button class=\"colab-df-convert\" onclick=\"convertToInteractive('df-017d311b-8a93-437b-90cf-4a4733021932')\"\n",
              "              title=\"Convert this dataframe to an interactive table.\"\n",
              "              style=\"display:none;\">\n",
              "        \n",
              "  <svg xmlns=\"http://www.w3.org/2000/svg\" height=\"24px\"viewBox=\"0 0 24 24\"\n",
              "       width=\"24px\">\n",
              "    <path d=\"M0 0h24v24H0V0z\" fill=\"none\"/>\n",
              "    <path d=\"M18.56 5.44l.94 2.06.94-2.06 2.06-.94-2.06-.94-.94-2.06-.94 2.06-2.06.94zm-11 1L8.5 8.5l.94-2.06 2.06-.94-2.06-.94L8.5 2.5l-.94 2.06-2.06.94zm10 10l.94 2.06.94-2.06 2.06-.94-2.06-.94-.94-2.06-.94 2.06-2.06.94z\"/><path d=\"M17.41 7.96l-1.37-1.37c-.4-.4-.92-.59-1.43-.59-.52 0-1.04.2-1.43.59L10.3 9.45l-7.72 7.72c-.78.78-.78 2.05 0 2.83L4 21.41c.39.39.9.59 1.41.59.51 0 1.02-.2 1.41-.59l7.78-7.78 2.81-2.81c.8-.78.8-2.07 0-2.86zM5.41 20L4 18.59l7.72-7.72 1.47 1.35L5.41 20z\"/>\n",
              "  </svg>\n",
              "      </button>\n",
              "      \n",
              "  <style>\n",
              "    .colab-df-container {\n",
              "      display:flex;\n",
              "      flex-wrap:wrap;\n",
              "      gap: 12px;\n",
              "    }\n",
              "\n",
              "    .colab-df-convert {\n",
              "      background-color: #E8F0FE;\n",
              "      border: none;\n",
              "      border-radius: 50%;\n",
              "      cursor: pointer;\n",
              "      display: none;\n",
              "      fill: #1967D2;\n",
              "      height: 32px;\n",
              "      padding: 0 0 0 0;\n",
              "      width: 32px;\n",
              "    }\n",
              "\n",
              "    .colab-df-convert:hover {\n",
              "      background-color: #E2EBFA;\n",
              "      box-shadow: 0px 1px 2px rgba(60, 64, 67, 0.3), 0px 1px 3px 1px rgba(60, 64, 67, 0.15);\n",
              "      fill: #174EA6;\n",
              "    }\n",
              "\n",
              "    [theme=dark] .colab-df-convert {\n",
              "      background-color: #3B4455;\n",
              "      fill: #D2E3FC;\n",
              "    }\n",
              "\n",
              "    [theme=dark] .colab-df-convert:hover {\n",
              "      background-color: #434B5C;\n",
              "      box-shadow: 0px 1px 3px 1px rgba(0, 0, 0, 0.15);\n",
              "      filter: drop-shadow(0px 1px 2px rgba(0, 0, 0, 0.3));\n",
              "      fill: #FFFFFF;\n",
              "    }\n",
              "  </style>\n",
              "\n",
              "      <script>\n",
              "        const buttonEl =\n",
              "          document.querySelector('#df-017d311b-8a93-437b-90cf-4a4733021932 button.colab-df-convert');\n",
              "        buttonEl.style.display =\n",
              "          google.colab.kernel.accessAllowed ? 'block' : 'none';\n",
              "\n",
              "        async function convertToInteractive(key) {\n",
              "          const element = document.querySelector('#df-017d311b-8a93-437b-90cf-4a4733021932');\n",
              "          const dataTable =\n",
              "            await google.colab.kernel.invokeFunction('convertToInteractive',\n",
              "                                                     [key], {});\n",
              "          if (!dataTable) return;\n",
              "\n",
              "          const docLinkHtml = 'Like what you see? Visit the ' +\n",
              "            '<a target=\"_blank\" href=https://colab.research.google.com/notebooks/data_table.ipynb>data table notebook</a>'\n",
              "            + ' to learn more about interactive tables.';\n",
              "          element.innerHTML = '';\n",
              "          dataTable['output_type'] = 'display_data';\n",
              "          await google.colab.output.renderOutput(dataTable, element);\n",
              "          const docLink = document.createElement('div');\n",
              "          docLink.innerHTML = docLinkHtml;\n",
              "          element.appendChild(docLink);\n",
              "        }\n",
              "      </script>\n",
              "    </div>\n",
              "  </div>\n",
              "  "
            ]
          },
          "metadata": {},
          "execution_count": 6
        }
      ]
    },
    {
      "cell_type": "code",
      "metadata": {
        "_uuid": "8fd9f343eab267f34a85ce770ff27218ffc986f5",
        "id": "0uY6FtsfCa4p"
      },
      "source": [
        "##Some ids have date like ids\n",
        "movies.drop(movies.index[19730],inplace=True)\n",
        "movies.drop(movies.index[29502],inplace=True)\n",
        "movies.drop(movies.index[35585],inplace=True)"
      ],
      "execution_count": null,
      "outputs": []
    },
    {
      "cell_type": "code",
      "metadata": {
        "id": "g3eTSycZCa4q",
        "colab": {
          "base_uri": "https://localhost:8080/"
        },
        "outputId": "4952ad55-a3e9-4876-fd88-dc16a1665ea6"
      },
      "source": [
        "ratings.columns"
      ],
      "execution_count": null,
      "outputs": [
        {
          "output_type": "execute_result",
          "data": {
            "text/plain": [
              "Index(['userId', 'movieId', 'rating', 'timestamp'], dtype='object')"
            ]
          },
          "metadata": {},
          "execution_count": 8
        }
      ]
    },
    {
      "cell_type": "code",
      "metadata": {
        "id": "R9KYpEYUCa4q",
        "colab": {
          "base_uri": "https://localhost:8080/"
        },
        "outputId": "9e079924-ea9f-4448-ee67-8598983fe756"
      },
      "source": [
        "movies.columns"
      ],
      "execution_count": null,
      "outputs": [
        {
          "output_type": "execute_result",
          "data": {
            "text/plain": [
              "Index(['adult', 'belongs_to_collection', 'budget', 'genres', 'homepage', 'id',\n",
              "       'imdb_id', 'original_language', 'original_title', 'overview',\n",
              "       'popularity', 'poster_path', 'production_companies',\n",
              "       'production_countries', 'release_date', 'revenue', 'runtime',\n",
              "       'spoken_languages', 'status', 'tagline', 'title', 'video',\n",
              "       'vote_average', 'vote_count'],\n",
              "      dtype='object')"
            ]
          },
          "metadata": {},
          "execution_count": 9
        }
      ]
    },
    {
      "cell_type": "code",
      "metadata": {
        "id": "xR-cltIKCa4r",
        "colab": {
          "base_uri": "https://localhost:8080/"
        },
        "outputId": "3edb18bb-8e09-4c0b-d96b-2c23ee883f71"
      },
      "source": [
        "ratings.dtypes"
      ],
      "execution_count": null,
      "outputs": [
        {
          "output_type": "execute_result",
          "data": {
            "text/plain": [
              "userId         int64\n",
              "movieId        int64\n",
              "rating       float64\n",
              "timestamp      int64\n",
              "dtype: object"
            ]
          },
          "metadata": {},
          "execution_count": 10
        }
      ]
    },
    {
      "cell_type": "code",
      "metadata": {
        "id": "Ye9NtbXrCa4r",
        "colab": {
          "base_uri": "https://localhost:8080/"
        },
        "outputId": "4478919e-93d0-42ed-ca9c-d48c153c3878"
      },
      "source": [
        "movies.dtypes"
      ],
      "execution_count": null,
      "outputs": [
        {
          "output_type": "execute_result",
          "data": {
            "text/plain": [
              "adult                     object\n",
              "belongs_to_collection     object\n",
              "budget                    object\n",
              "genres                    object\n",
              "homepage                  object\n",
              "id                        object\n",
              "imdb_id                   object\n",
              "original_language         object\n",
              "original_title            object\n",
              "overview                  object\n",
              "popularity                object\n",
              "poster_path               object\n",
              "production_companies      object\n",
              "production_countries      object\n",
              "release_date              object\n",
              "revenue                  float64\n",
              "runtime                  float64\n",
              "spoken_languages          object\n",
              "status                    object\n",
              "tagline                   object\n",
              "title                     object\n",
              "video                     object\n",
              "vote_average             float64\n",
              "vote_count               float64\n",
              "dtype: object"
            ]
          },
          "metadata": {},
          "execution_count": 11
        }
      ]
    },
    {
      "cell_type": "code",
      "metadata": {
        "_uuid": "61508bbf2ec167c1359ea77fbe31b84d58a7faf6",
        "id": "qaYUTj9NCa4s"
      },
      "source": [
        "movies.id = movies.id.astype('int')"
      ],
      "execution_count": null,
      "outputs": []
    },
    {
      "cell_type": "code",
      "metadata": {
        "_uuid": "873e8323d45d21cd3040a933d152ffcc665088b4",
        "id": "MudA7MElCa4s",
        "colab": {
          "base_uri": "https://localhost:8080/"
        },
        "outputId": "b50b9ac6-fbe8-4175-c89e-2cb66dbfc65f"
      },
      "source": [
        "type(movies.id[0])"
      ],
      "execution_count": null,
      "outputs": [
        {
          "output_type": "execute_result",
          "data": {
            "text/plain": [
              "numpy.int64"
            ]
          },
          "metadata": {},
          "execution_count": 13
        }
      ]
    },
    {
      "cell_type": "code",
      "metadata": {
        "_uuid": "1687b03051a069ef007ad04c4c69a6dde0e444a2",
        "id": "O4XA1ydLCa4s",
        "colab": {
          "base_uri": "https://localhost:8080/"
        },
        "outputId": "b3877ae6-b424-43a3-8e52-9b471165f5f0"
      },
      "source": [
        "ratings.movieId.isin(movies.id).sum()"
      ],
      "execution_count": null,
      "outputs": [
        {
          "output_type": "execute_result",
          "data": {
            "text/plain": [
              "10433371"
            ]
          },
          "metadata": {},
          "execution_count": 14
        }
      ]
    },
    {
      "cell_type": "code",
      "metadata": {
        "_uuid": "ad3880fe8864cb956690a2a885be3bc1d372bb6f",
        "id": "bH86X3myCa4t",
        "colab": {
          "base_uri": "https://localhost:8080/",
          "height": 206
        },
        "outputId": "54b2960b-6f5c-4157-8c37-69186112f2e5"
      },
      "source": [
        "ratings = pd.merge(ratings,movies[['title','id']],left_on='movieId',right_on='id')\n",
        "ratings.head()"
      ],
      "execution_count": null,
      "outputs": [
        {
          "output_type": "execute_result",
          "data": {
            "text/plain": [
              "   userId  movieId  rating   timestamp                               title  \\\n",
              "0       1      296     5.0  1147880044  Terminator 3: Rise of the Machines   \n",
              "1       3      296     5.0  1439474476  Terminator 3: Rise of the Machines   \n",
              "2       4      296     4.0  1573938898  Terminator 3: Rise of the Machines   \n",
              "3       5      296     4.0   830786155  Terminator 3: Rise of the Machines   \n",
              "4       7      296     4.0   835444730  Terminator 3: Rise of the Machines   \n",
              "\n",
              "    id  \n",
              "0  296  \n",
              "1  296  \n",
              "2  296  \n",
              "3  296  \n",
              "4  296  "
            ],
            "text/html": [
              "\n",
              "  <div id=\"df-6daedee3-6938-48dc-bf47-66d72b5ee28a\">\n",
              "    <div class=\"colab-df-container\">\n",
              "      <div>\n",
              "<style scoped>\n",
              "    .dataframe tbody tr th:only-of-type {\n",
              "        vertical-align: middle;\n",
              "    }\n",
              "\n",
              "    .dataframe tbody tr th {\n",
              "        vertical-align: top;\n",
              "    }\n",
              "\n",
              "    .dataframe thead th {\n",
              "        text-align: right;\n",
              "    }\n",
              "</style>\n",
              "<table border=\"1\" class=\"dataframe\">\n",
              "  <thead>\n",
              "    <tr style=\"text-align: right;\">\n",
              "      <th></th>\n",
              "      <th>userId</th>\n",
              "      <th>movieId</th>\n",
              "      <th>rating</th>\n",
              "      <th>timestamp</th>\n",
              "      <th>title</th>\n",
              "      <th>id</th>\n",
              "    </tr>\n",
              "  </thead>\n",
              "  <tbody>\n",
              "    <tr>\n",
              "      <th>0</th>\n",
              "      <td>1</td>\n",
              "      <td>296</td>\n",
              "      <td>5.0</td>\n",
              "      <td>1147880044</td>\n",
              "      <td>Terminator 3: Rise of the Machines</td>\n",
              "      <td>296</td>\n",
              "    </tr>\n",
              "    <tr>\n",
              "      <th>1</th>\n",
              "      <td>3</td>\n",
              "      <td>296</td>\n",
              "      <td>5.0</td>\n",
              "      <td>1439474476</td>\n",
              "      <td>Terminator 3: Rise of the Machines</td>\n",
              "      <td>296</td>\n",
              "    </tr>\n",
              "    <tr>\n",
              "      <th>2</th>\n",
              "      <td>4</td>\n",
              "      <td>296</td>\n",
              "      <td>4.0</td>\n",
              "      <td>1573938898</td>\n",
              "      <td>Terminator 3: Rise of the Machines</td>\n",
              "      <td>296</td>\n",
              "    </tr>\n",
              "    <tr>\n",
              "      <th>3</th>\n",
              "      <td>5</td>\n",
              "      <td>296</td>\n",
              "      <td>4.0</td>\n",
              "      <td>830786155</td>\n",
              "      <td>Terminator 3: Rise of the Machines</td>\n",
              "      <td>296</td>\n",
              "    </tr>\n",
              "    <tr>\n",
              "      <th>4</th>\n",
              "      <td>7</td>\n",
              "      <td>296</td>\n",
              "      <td>4.0</td>\n",
              "      <td>835444730</td>\n",
              "      <td>Terminator 3: Rise of the Machines</td>\n",
              "      <td>296</td>\n",
              "    </tr>\n",
              "  </tbody>\n",
              "</table>\n",
              "</div>\n",
              "      <button class=\"colab-df-convert\" onclick=\"convertToInteractive('df-6daedee3-6938-48dc-bf47-66d72b5ee28a')\"\n",
              "              title=\"Convert this dataframe to an interactive table.\"\n",
              "              style=\"display:none;\">\n",
              "        \n",
              "  <svg xmlns=\"http://www.w3.org/2000/svg\" height=\"24px\"viewBox=\"0 0 24 24\"\n",
              "       width=\"24px\">\n",
              "    <path d=\"M0 0h24v24H0V0z\" fill=\"none\"/>\n",
              "    <path d=\"M18.56 5.44l.94 2.06.94-2.06 2.06-.94-2.06-.94-.94-2.06-.94 2.06-2.06.94zm-11 1L8.5 8.5l.94-2.06 2.06-.94-2.06-.94L8.5 2.5l-.94 2.06-2.06.94zm10 10l.94 2.06.94-2.06 2.06-.94-2.06-.94-.94-2.06-.94 2.06-2.06.94z\"/><path d=\"M17.41 7.96l-1.37-1.37c-.4-.4-.92-.59-1.43-.59-.52 0-1.04.2-1.43.59L10.3 9.45l-7.72 7.72c-.78.78-.78 2.05 0 2.83L4 21.41c.39.39.9.59 1.41.59.51 0 1.02-.2 1.41-.59l7.78-7.78 2.81-2.81c.8-.78.8-2.07 0-2.86zM5.41 20L4 18.59l7.72-7.72 1.47 1.35L5.41 20z\"/>\n",
              "  </svg>\n",
              "      </button>\n",
              "      \n",
              "  <style>\n",
              "    .colab-df-container {\n",
              "      display:flex;\n",
              "      flex-wrap:wrap;\n",
              "      gap: 12px;\n",
              "    }\n",
              "\n",
              "    .colab-df-convert {\n",
              "      background-color: #E8F0FE;\n",
              "      border: none;\n",
              "      border-radius: 50%;\n",
              "      cursor: pointer;\n",
              "      display: none;\n",
              "      fill: #1967D2;\n",
              "      height: 32px;\n",
              "      padding: 0 0 0 0;\n",
              "      width: 32px;\n",
              "    }\n",
              "\n",
              "    .colab-df-convert:hover {\n",
              "      background-color: #E2EBFA;\n",
              "      box-shadow: 0px 1px 2px rgba(60, 64, 67, 0.3), 0px 1px 3px 1px rgba(60, 64, 67, 0.15);\n",
              "      fill: #174EA6;\n",
              "    }\n",
              "\n",
              "    [theme=dark] .colab-df-convert {\n",
              "      background-color: #3B4455;\n",
              "      fill: #D2E3FC;\n",
              "    }\n",
              "\n",
              "    [theme=dark] .colab-df-convert:hover {\n",
              "      background-color: #434B5C;\n",
              "      box-shadow: 0px 1px 3px 1px rgba(0, 0, 0, 0.15);\n",
              "      filter: drop-shadow(0px 1px 2px rgba(0, 0, 0, 0.3));\n",
              "      fill: #FFFFFF;\n",
              "    }\n",
              "  </style>\n",
              "\n",
              "      <script>\n",
              "        const buttonEl =\n",
              "          document.querySelector('#df-6daedee3-6938-48dc-bf47-66d72b5ee28a button.colab-df-convert');\n",
              "        buttonEl.style.display =\n",
              "          google.colab.kernel.accessAllowed ? 'block' : 'none';\n",
              "\n",
              "        async function convertToInteractive(key) {\n",
              "          const element = document.querySelector('#df-6daedee3-6938-48dc-bf47-66d72b5ee28a');\n",
              "          const dataTable =\n",
              "            await google.colab.kernel.invokeFunction('convertToInteractive',\n",
              "                                                     [key], {});\n",
              "          if (!dataTable) return;\n",
              "\n",
              "          const docLinkHtml = 'Like what you see? Visit the ' +\n",
              "            '<a target=\"_blank\" href=https://colab.research.google.com/notebooks/data_table.ipynb>data table notebook</a>'\n",
              "            + ' to learn more about interactive tables.';\n",
              "          element.innerHTML = '';\n",
              "          dataTable['output_type'] = 'display_data';\n",
              "          await google.colab.output.renderOutput(dataTable, element);\n",
              "          const docLink = document.createElement('div');\n",
              "          docLink.innerHTML = docLinkHtml;\n",
              "          element.appendChild(docLink);\n",
              "        }\n",
              "      </script>\n",
              "    </div>\n",
              "  </div>\n",
              "  "
            ]
          },
          "metadata": {},
          "execution_count": 15
        }
      ]
    },
    {
      "cell_type": "code",
      "metadata": {
        "_uuid": "6ba8d178c0205b359676edcad99ae96c13cd60ea",
        "id": "7jOTzICQCa4u"
      },
      "source": [
        "ratings.drop(['timestamp','id'],axis=1,inplace=True)"
      ],
      "execution_count": null,
      "outputs": []
    },
    {
      "cell_type": "code",
      "metadata": {
        "_uuid": "abfe1cba0cf1083eefb094fce8e00c3c7f61c999",
        "id": "gWH9mCQUCa4v",
        "colab": {
          "base_uri": "https://localhost:8080/"
        },
        "outputId": "e3d165fc-dc31-475e-861f-fc975380ba84"
      },
      "source": [
        "ratings.shape"
      ],
      "execution_count": null,
      "outputs": [
        {
          "output_type": "execute_result",
          "data": {
            "text/plain": [
              "(10434471, 4)"
            ]
          },
          "metadata": {},
          "execution_count": 17
        }
      ]
    },
    {
      "cell_type": "code",
      "metadata": {
        "_uuid": "78312c8ca97f19a41247106211fb1441309a2bd6",
        "id": "0mlywxNlCa4v",
        "colab": {
          "base_uri": "https://localhost:8080/"
        },
        "outputId": "4fc028d8-4199-4182-ee76-0965f376a13d"
      },
      "source": [
        "ratings.sample(5)"
      ],
      "execution_count": null,
      "outputs": [
        {
          "output_type": "execute_result",
          "data": {
            "text/plain": [
              "         userId  movieId  rating                      title\n",
              "3600230   36323   122924     3.0         One in the Chamber\n",
              "7661024   26340      339     3.0             Night on Earth\n",
              "1956371  107474     5816     4.0                     Waiter\n",
              "5610465  150876      158     3.5  Knockin' on Heaven's Door\n",
              "2749745   98449     3527     4.0        Don't Come Knocking"
            ],
            "text/html": [
              "\n",
              "  <div id=\"df-0ae7260b-dd91-4ae4-923c-b4536a49c7b4\">\n",
              "    <div class=\"colab-df-container\">\n",
              "      <div>\n",
              "<style scoped>\n",
              "    .dataframe tbody tr th:only-of-type {\n",
              "        vertical-align: middle;\n",
              "    }\n",
              "\n",
              "    .dataframe tbody tr th {\n",
              "        vertical-align: top;\n",
              "    }\n",
              "\n",
              "    .dataframe thead th {\n",
              "        text-align: right;\n",
              "    }\n",
              "</style>\n",
              "<table border=\"1\" class=\"dataframe\">\n",
              "  <thead>\n",
              "    <tr style=\"text-align: right;\">\n",
              "      <th></th>\n",
              "      <th>userId</th>\n",
              "      <th>movieId</th>\n",
              "      <th>rating</th>\n",
              "      <th>title</th>\n",
              "    </tr>\n",
              "  </thead>\n",
              "  <tbody>\n",
              "    <tr>\n",
              "      <th>3600230</th>\n",
              "      <td>36323</td>\n",
              "      <td>122924</td>\n",
              "      <td>3.0</td>\n",
              "      <td>One in the Chamber</td>\n",
              "    </tr>\n",
              "    <tr>\n",
              "      <th>7661024</th>\n",
              "      <td>26340</td>\n",
              "      <td>339</td>\n",
              "      <td>3.0</td>\n",
              "      <td>Night on Earth</td>\n",
              "    </tr>\n",
              "    <tr>\n",
              "      <th>1956371</th>\n",
              "      <td>107474</td>\n",
              "      <td>5816</td>\n",
              "      <td>4.0</td>\n",
              "      <td>Waiter</td>\n",
              "    </tr>\n",
              "    <tr>\n",
              "      <th>5610465</th>\n",
              "      <td>150876</td>\n",
              "      <td>158</td>\n",
              "      <td>3.5</td>\n",
              "      <td>Knockin' on Heaven's Door</td>\n",
              "    </tr>\n",
              "    <tr>\n",
              "      <th>2749745</th>\n",
              "      <td>98449</td>\n",
              "      <td>3527</td>\n",
              "      <td>4.0</td>\n",
              "      <td>Don't Come Knocking</td>\n",
              "    </tr>\n",
              "  </tbody>\n",
              "</table>\n",
              "</div>\n",
              "      <button class=\"colab-df-convert\" onclick=\"convertToInteractive('df-0ae7260b-dd91-4ae4-923c-b4536a49c7b4')\"\n",
              "              title=\"Convert this dataframe to an interactive table.\"\n",
              "              style=\"display:none;\">\n",
              "        \n",
              "  <svg xmlns=\"http://www.w3.org/2000/svg\" height=\"24px\"viewBox=\"0 0 24 24\"\n",
              "       width=\"24px\">\n",
              "    <path d=\"M0 0h24v24H0V0z\" fill=\"none\"/>\n",
              "    <path d=\"M18.56 5.44l.94 2.06.94-2.06 2.06-.94-2.06-.94-.94-2.06-.94 2.06-2.06.94zm-11 1L8.5 8.5l.94-2.06 2.06-.94-2.06-.94L8.5 2.5l-.94 2.06-2.06.94zm10 10l.94 2.06.94-2.06 2.06-.94-2.06-.94-.94-2.06-.94 2.06-2.06.94z\"/><path d=\"M17.41 7.96l-1.37-1.37c-.4-.4-.92-.59-1.43-.59-.52 0-1.04.2-1.43.59L10.3 9.45l-7.72 7.72c-.78.78-.78 2.05 0 2.83L4 21.41c.39.39.9.59 1.41.59.51 0 1.02-.2 1.41-.59l7.78-7.78 2.81-2.81c.8-.78.8-2.07 0-2.86zM5.41 20L4 18.59l7.72-7.72 1.47 1.35L5.41 20z\"/>\n",
              "  </svg>\n",
              "      </button>\n",
              "      \n",
              "  <style>\n",
              "    .colab-df-container {\n",
              "      display:flex;\n",
              "      flex-wrap:wrap;\n",
              "      gap: 12px;\n",
              "    }\n",
              "\n",
              "    .colab-df-convert {\n",
              "      background-color: #E8F0FE;\n",
              "      border: none;\n",
              "      border-radius: 50%;\n",
              "      cursor: pointer;\n",
              "      display: none;\n",
              "      fill: #1967D2;\n",
              "      height: 32px;\n",
              "      padding: 0 0 0 0;\n",
              "      width: 32px;\n",
              "    }\n",
              "\n",
              "    .colab-df-convert:hover {\n",
              "      background-color: #E2EBFA;\n",
              "      box-shadow: 0px 1px 2px rgba(60, 64, 67, 0.3), 0px 1px 3px 1px rgba(60, 64, 67, 0.15);\n",
              "      fill: #174EA6;\n",
              "    }\n",
              "\n",
              "    [theme=dark] .colab-df-convert {\n",
              "      background-color: #3B4455;\n",
              "      fill: #D2E3FC;\n",
              "    }\n",
              "\n",
              "    [theme=dark] .colab-df-convert:hover {\n",
              "      background-color: #434B5C;\n",
              "      box-shadow: 0px 1px 3px 1px rgba(0, 0, 0, 0.15);\n",
              "      filter: drop-shadow(0px 1px 2px rgba(0, 0, 0, 0.3));\n",
              "      fill: #FFFFFF;\n",
              "    }\n",
              "  </style>\n",
              "\n",
              "      <script>\n",
              "        const buttonEl =\n",
              "          document.querySelector('#df-0ae7260b-dd91-4ae4-923c-b4536a49c7b4 button.colab-df-convert');\n",
              "        buttonEl.style.display =\n",
              "          google.colab.kernel.accessAllowed ? 'block' : 'none';\n",
              "\n",
              "        async function convertToInteractive(key) {\n",
              "          const element = document.querySelector('#df-0ae7260b-dd91-4ae4-923c-b4536a49c7b4');\n",
              "          const dataTable =\n",
              "            await google.colab.kernel.invokeFunction('convertToInteractive',\n",
              "                                                     [key], {});\n",
              "          if (!dataTable) return;\n",
              "\n",
              "          const docLinkHtml = 'Like what you see? Visit the ' +\n",
              "            '<a target=\"_blank\" href=https://colab.research.google.com/notebooks/data_table.ipynb>data table notebook</a>'\n",
              "            + ' to learn more about interactive tables.';\n",
              "          element.innerHTML = '';\n",
              "          dataTable['output_type'] = 'display_data';\n",
              "          await google.colab.output.renderOutput(dataTable, element);\n",
              "          const docLink = document.createElement('div');\n",
              "          docLink.innerHTML = docLinkHtml;\n",
              "          element.appendChild(docLink);\n",
              "        }\n",
              "      </script>\n",
              "    </div>\n",
              "  </div>\n",
              "  "
            ]
          },
          "metadata": {},
          "execution_count": 18
        }
      ]
    },
    {
      "cell_type": "code",
      "metadata": {
        "_uuid": "c150fb7e22c6bf7800fcaad8e02b407660aebf5c",
        "id": "gVwIUVXcCa4v",
        "colab": {
          "base_uri": "https://localhost:8080/"
        },
        "outputId": "c514c6d9-4bea-4a7b-a661-162072e99902"
      },
      "source": [
        "ratings.isnull().sum()"
      ],
      "execution_count": null,
      "outputs": [
        {
          "output_type": "execute_result",
          "data": {
            "text/plain": [
              "userId     0\n",
              "movieId    0\n",
              "rating     0\n",
              "title      0\n",
              "dtype: int64"
            ]
          },
          "metadata": {},
          "execution_count": 19
        }
      ]
    },
    {
      "cell_type": "code",
      "metadata": {
        "_uuid": "cefc8069026f5ee23ff79bfe49f93e6477b5981c",
        "id": "YYf2Za52Ca4w"
      },
      "source": [
        "ratings_count = ratings.groupby(by=\"title\")['rating'].count().reset_index().rename(columns={'rating':'totalRatings'})[['title','totalRatings']]"
      ],
      "execution_count": null,
      "outputs": []
    },
    {
      "cell_type": "code",
      "metadata": {
        "id": "gl8yIpb-Hi7F",
        "colab": {
          "base_uri": "https://localhost:8080/"
        },
        "outputId": "46ec3278-bfe0-4a0f-aa0b-faa6f2f22916"
      },
      "source": [
        "ratings_count"
      ],
      "execution_count": null,
      "outputs": [
        {
          "output_type": "execute_result",
          "data": {
            "text/plain": [
              "                        title  totalRatings\n",
              "0       !Women Art Revolution           907\n",
              "1         $1,000 on the Black             1\n",
              "2                    $5 a Day           139\n",
              "3                 'Gator Bait           199\n",
              "4                     'R Xmas            84\n",
              "...                       ...           ...\n",
              "7807                 Ödipussi           274\n",
              "7808         Şaban Oğlu Şaban           129\n",
              "7809             Škola princů             9\n",
              "7810  Šíleně smutná princezna           294\n",
              "7811             Львиная доля             6\n",
              "\n",
              "[7812 rows x 2 columns]"
            ],
            "text/html": [
              "\n",
              "  <div id=\"df-257d4662-c2a9-4822-ad7f-e638a5f0da8d\">\n",
              "    <div class=\"colab-df-container\">\n",
              "      <div>\n",
              "<style scoped>\n",
              "    .dataframe tbody tr th:only-of-type {\n",
              "        vertical-align: middle;\n",
              "    }\n",
              "\n",
              "    .dataframe tbody tr th {\n",
              "        vertical-align: top;\n",
              "    }\n",
              "\n",
              "    .dataframe thead th {\n",
              "        text-align: right;\n",
              "    }\n",
              "</style>\n",
              "<table border=\"1\" class=\"dataframe\">\n",
              "  <thead>\n",
              "    <tr style=\"text-align: right;\">\n",
              "      <th></th>\n",
              "      <th>title</th>\n",
              "      <th>totalRatings</th>\n",
              "    </tr>\n",
              "  </thead>\n",
              "  <tbody>\n",
              "    <tr>\n",
              "      <th>0</th>\n",
              "      <td>!Women Art Revolution</td>\n",
              "      <td>907</td>\n",
              "    </tr>\n",
              "    <tr>\n",
              "      <th>1</th>\n",
              "      <td>$1,000 on the Black</td>\n",
              "      <td>1</td>\n",
              "    </tr>\n",
              "    <tr>\n",
              "      <th>2</th>\n",
              "      <td>$5 a Day</td>\n",
              "      <td>139</td>\n",
              "    </tr>\n",
              "    <tr>\n",
              "      <th>3</th>\n",
              "      <td>'Gator Bait</td>\n",
              "      <td>199</td>\n",
              "    </tr>\n",
              "    <tr>\n",
              "      <th>4</th>\n",
              "      <td>'R Xmas</td>\n",
              "      <td>84</td>\n",
              "    </tr>\n",
              "    <tr>\n",
              "      <th>...</th>\n",
              "      <td>...</td>\n",
              "      <td>...</td>\n",
              "    </tr>\n",
              "    <tr>\n",
              "      <th>7807</th>\n",
              "      <td>Ödipussi</td>\n",
              "      <td>274</td>\n",
              "    </tr>\n",
              "    <tr>\n",
              "      <th>7808</th>\n",
              "      <td>Şaban Oğlu Şaban</td>\n",
              "      <td>129</td>\n",
              "    </tr>\n",
              "    <tr>\n",
              "      <th>7809</th>\n",
              "      <td>Škola princů</td>\n",
              "      <td>9</td>\n",
              "    </tr>\n",
              "    <tr>\n",
              "      <th>7810</th>\n",
              "      <td>Šíleně smutná princezna</td>\n",
              "      <td>294</td>\n",
              "    </tr>\n",
              "    <tr>\n",
              "      <th>7811</th>\n",
              "      <td>Львиная доля</td>\n",
              "      <td>6</td>\n",
              "    </tr>\n",
              "  </tbody>\n",
              "</table>\n",
              "<p>7812 rows × 2 columns</p>\n",
              "</div>\n",
              "      <button class=\"colab-df-convert\" onclick=\"convertToInteractive('df-257d4662-c2a9-4822-ad7f-e638a5f0da8d')\"\n",
              "              title=\"Convert this dataframe to an interactive table.\"\n",
              "              style=\"display:none;\">\n",
              "        \n",
              "  <svg xmlns=\"http://www.w3.org/2000/svg\" height=\"24px\"viewBox=\"0 0 24 24\"\n",
              "       width=\"24px\">\n",
              "    <path d=\"M0 0h24v24H0V0z\" fill=\"none\"/>\n",
              "    <path d=\"M18.56 5.44l.94 2.06.94-2.06 2.06-.94-2.06-.94-.94-2.06-.94 2.06-2.06.94zm-11 1L8.5 8.5l.94-2.06 2.06-.94-2.06-.94L8.5 2.5l-.94 2.06-2.06.94zm10 10l.94 2.06.94-2.06 2.06-.94-2.06-.94-.94-2.06-.94 2.06-2.06.94z\"/><path d=\"M17.41 7.96l-1.37-1.37c-.4-.4-.92-.59-1.43-.59-.52 0-1.04.2-1.43.59L10.3 9.45l-7.72 7.72c-.78.78-.78 2.05 0 2.83L4 21.41c.39.39.9.59 1.41.59.51 0 1.02-.2 1.41-.59l7.78-7.78 2.81-2.81c.8-.78.8-2.07 0-2.86zM5.41 20L4 18.59l7.72-7.72 1.47 1.35L5.41 20z\"/>\n",
              "  </svg>\n",
              "      </button>\n",
              "      \n",
              "  <style>\n",
              "    .colab-df-container {\n",
              "      display:flex;\n",
              "      flex-wrap:wrap;\n",
              "      gap: 12px;\n",
              "    }\n",
              "\n",
              "    .colab-df-convert {\n",
              "      background-color: #E8F0FE;\n",
              "      border: none;\n",
              "      border-radius: 50%;\n",
              "      cursor: pointer;\n",
              "      display: none;\n",
              "      fill: #1967D2;\n",
              "      height: 32px;\n",
              "      padding: 0 0 0 0;\n",
              "      width: 32px;\n",
              "    }\n",
              "\n",
              "    .colab-df-convert:hover {\n",
              "      background-color: #E2EBFA;\n",
              "      box-shadow: 0px 1px 2px rgba(60, 64, 67, 0.3), 0px 1px 3px 1px rgba(60, 64, 67, 0.15);\n",
              "      fill: #174EA6;\n",
              "    }\n",
              "\n",
              "    [theme=dark] .colab-df-convert {\n",
              "      background-color: #3B4455;\n",
              "      fill: #D2E3FC;\n",
              "    }\n",
              "\n",
              "    [theme=dark] .colab-df-convert:hover {\n",
              "      background-color: #434B5C;\n",
              "      box-shadow: 0px 1px 3px 1px rgba(0, 0, 0, 0.15);\n",
              "      filter: drop-shadow(0px 1px 2px rgba(0, 0, 0, 0.3));\n",
              "      fill: #FFFFFF;\n",
              "    }\n",
              "  </style>\n",
              "\n",
              "      <script>\n",
              "        const buttonEl =\n",
              "          document.querySelector('#df-257d4662-c2a9-4822-ad7f-e638a5f0da8d button.colab-df-convert');\n",
              "        buttonEl.style.display =\n",
              "          google.colab.kernel.accessAllowed ? 'block' : 'none';\n",
              "\n",
              "        async function convertToInteractive(key) {\n",
              "          const element = document.querySelector('#df-257d4662-c2a9-4822-ad7f-e638a5f0da8d');\n",
              "          const dataTable =\n",
              "            await google.colab.kernel.invokeFunction('convertToInteractive',\n",
              "                                                     [key], {});\n",
              "          if (!dataTable) return;\n",
              "\n",
              "          const docLinkHtml = 'Like what you see? Visit the ' +\n",
              "            '<a target=\"_blank\" href=https://colab.research.google.com/notebooks/data_table.ipynb>data table notebook</a>'\n",
              "            + ' to learn more about interactive tables.';\n",
              "          element.innerHTML = '';\n",
              "          dataTable['output_type'] = 'display_data';\n",
              "          await google.colab.output.renderOutput(dataTable, element);\n",
              "          const docLink = document.createElement('div');\n",
              "          docLink.innerHTML = docLinkHtml;\n",
              "          element.appendChild(docLink);\n",
              "        }\n",
              "      </script>\n",
              "    </div>\n",
              "  </div>\n",
              "  "
            ]
          },
          "metadata": {},
          "execution_count": 21
        }
      ]
    },
    {
      "cell_type": "code",
      "metadata": {
        "_uuid": "d3af74f8ef549ec8d0a79bc631db51c8b8aaec40",
        "id": "VryuOX2vCa4w",
        "colab": {
          "base_uri": "https://localhost:8080/"
        },
        "outputId": "f902143a-b9d9-448c-b5a6-5e7c7a6a6989"
      },
      "source": [
        "len(ratings['title'].unique())"
      ],
      "execution_count": null,
      "outputs": [
        {
          "output_type": "execute_result",
          "data": {
            "text/plain": [
              "7812"
            ]
          },
          "metadata": {},
          "execution_count": 22
        }
      ]
    },
    {
      "cell_type": "code",
      "metadata": {
        "_uuid": "39e62aaf9676dc9480043612df30b4626bcd5356",
        "id": "yrc7ySy6Ca4w",
        "colab": {
          "base_uri": "https://localhost:8080/"
        },
        "outputId": "91dc3b64-08f0-4df6-b5f0-951103263480"
      },
      "source": [
        "ratings_count.sample(5)"
      ],
      "execution_count": null,
      "outputs": [
        {
          "output_type": "execute_result",
          "data": {
            "text/plain": [
              "                                   title  totalRatings\n",
              "1048               Bunny Lake Is Missing           876\n",
              "5737              The Clone Returns Home            40\n",
              "6694              The Return of the King          1627\n",
              "7293                 True Love and Chaos            91\n",
              "1112  Captain America: The First Avenger           349"
            ],
            "text/html": [
              "\n",
              "  <div id=\"df-68103389-bcef-4132-9479-4d9a03891709\">\n",
              "    <div class=\"colab-df-container\">\n",
              "      <div>\n",
              "<style scoped>\n",
              "    .dataframe tbody tr th:only-of-type {\n",
              "        vertical-align: middle;\n",
              "    }\n",
              "\n",
              "    .dataframe tbody tr th {\n",
              "        vertical-align: top;\n",
              "    }\n",
              "\n",
              "    .dataframe thead th {\n",
              "        text-align: right;\n",
              "    }\n",
              "</style>\n",
              "<table border=\"1\" class=\"dataframe\">\n",
              "  <thead>\n",
              "    <tr style=\"text-align: right;\">\n",
              "      <th></th>\n",
              "      <th>title</th>\n",
              "      <th>totalRatings</th>\n",
              "    </tr>\n",
              "  </thead>\n",
              "  <tbody>\n",
              "    <tr>\n",
              "      <th>1048</th>\n",
              "      <td>Bunny Lake Is Missing</td>\n",
              "      <td>876</td>\n",
              "    </tr>\n",
              "    <tr>\n",
              "      <th>5737</th>\n",
              "      <td>The Clone Returns Home</td>\n",
              "      <td>40</td>\n",
              "    </tr>\n",
              "    <tr>\n",
              "      <th>6694</th>\n",
              "      <td>The Return of the King</td>\n",
              "      <td>1627</td>\n",
              "    </tr>\n",
              "    <tr>\n",
              "      <th>7293</th>\n",
              "      <td>True Love and Chaos</td>\n",
              "      <td>91</td>\n",
              "    </tr>\n",
              "    <tr>\n",
              "      <th>1112</th>\n",
              "      <td>Captain America: The First Avenger</td>\n",
              "      <td>349</td>\n",
              "    </tr>\n",
              "  </tbody>\n",
              "</table>\n",
              "</div>\n",
              "      <button class=\"colab-df-convert\" onclick=\"convertToInteractive('df-68103389-bcef-4132-9479-4d9a03891709')\"\n",
              "              title=\"Convert this dataframe to an interactive table.\"\n",
              "              style=\"display:none;\">\n",
              "        \n",
              "  <svg xmlns=\"http://www.w3.org/2000/svg\" height=\"24px\"viewBox=\"0 0 24 24\"\n",
              "       width=\"24px\">\n",
              "    <path d=\"M0 0h24v24H0V0z\" fill=\"none\"/>\n",
              "    <path d=\"M18.56 5.44l.94 2.06.94-2.06 2.06-.94-2.06-.94-.94-2.06-.94 2.06-2.06.94zm-11 1L8.5 8.5l.94-2.06 2.06-.94-2.06-.94L8.5 2.5l-.94 2.06-2.06.94zm10 10l.94 2.06.94-2.06 2.06-.94-2.06-.94-.94-2.06-.94 2.06-2.06.94z\"/><path d=\"M17.41 7.96l-1.37-1.37c-.4-.4-.92-.59-1.43-.59-.52 0-1.04.2-1.43.59L10.3 9.45l-7.72 7.72c-.78.78-.78 2.05 0 2.83L4 21.41c.39.39.9.59 1.41.59.51 0 1.02-.2 1.41-.59l7.78-7.78 2.81-2.81c.8-.78.8-2.07 0-2.86zM5.41 20L4 18.59l7.72-7.72 1.47 1.35L5.41 20z\"/>\n",
              "  </svg>\n",
              "      </button>\n",
              "      \n",
              "  <style>\n",
              "    .colab-df-container {\n",
              "      display:flex;\n",
              "      flex-wrap:wrap;\n",
              "      gap: 12px;\n",
              "    }\n",
              "\n",
              "    .colab-df-convert {\n",
              "      background-color: #E8F0FE;\n",
              "      border: none;\n",
              "      border-radius: 50%;\n",
              "      cursor: pointer;\n",
              "      display: none;\n",
              "      fill: #1967D2;\n",
              "      height: 32px;\n",
              "      padding: 0 0 0 0;\n",
              "      width: 32px;\n",
              "    }\n",
              "\n",
              "    .colab-df-convert:hover {\n",
              "      background-color: #E2EBFA;\n",
              "      box-shadow: 0px 1px 2px rgba(60, 64, 67, 0.3), 0px 1px 3px 1px rgba(60, 64, 67, 0.15);\n",
              "      fill: #174EA6;\n",
              "    }\n",
              "\n",
              "    [theme=dark] .colab-df-convert {\n",
              "      background-color: #3B4455;\n",
              "      fill: #D2E3FC;\n",
              "    }\n",
              "\n",
              "    [theme=dark] .colab-df-convert:hover {\n",
              "      background-color: #434B5C;\n",
              "      box-shadow: 0px 1px 3px 1px rgba(0, 0, 0, 0.15);\n",
              "      filter: drop-shadow(0px 1px 2px rgba(0, 0, 0, 0.3));\n",
              "      fill: #FFFFFF;\n",
              "    }\n",
              "  </style>\n",
              "\n",
              "      <script>\n",
              "        const buttonEl =\n",
              "          document.querySelector('#df-68103389-bcef-4132-9479-4d9a03891709 button.colab-df-convert');\n",
              "        buttonEl.style.display =\n",
              "          google.colab.kernel.accessAllowed ? 'block' : 'none';\n",
              "\n",
              "        async function convertToInteractive(key) {\n",
              "          const element = document.querySelector('#df-68103389-bcef-4132-9479-4d9a03891709');\n",
              "          const dataTable =\n",
              "            await google.colab.kernel.invokeFunction('convertToInteractive',\n",
              "                                                     [key], {});\n",
              "          if (!dataTable) return;\n",
              "\n",
              "          const docLinkHtml = 'Like what you see? Visit the ' +\n",
              "            '<a target=\"_blank\" href=https://colab.research.google.com/notebooks/data_table.ipynb>data table notebook</a>'\n",
              "            + ' to learn more about interactive tables.';\n",
              "          element.innerHTML = '';\n",
              "          dataTable['output_type'] = 'display_data';\n",
              "          await google.colab.output.renderOutput(dataTable, element);\n",
              "          const docLink = document.createElement('div');\n",
              "          docLink.innerHTML = docLinkHtml;\n",
              "          element.appendChild(docLink);\n",
              "        }\n",
              "      </script>\n",
              "    </div>\n",
              "  </div>\n",
              "  "
            ]
          },
          "metadata": {},
          "execution_count": 23
        }
      ]
    },
    {
      "cell_type": "code",
      "metadata": {
        "_uuid": "ffbd6aa7a231641c015b7873f3d90dbba933d57b",
        "id": "MWxROHabCa4x",
        "colab": {
          "base_uri": "https://localhost:8080/",
          "height": 322
        },
        "outputId": "85725b04-7914-460d-bf19-f0557e3cf8f7"
      },
      "source": [
        "ratings_count.head()"
      ],
      "execution_count": null,
      "outputs": [
        {
          "output_type": "execute_result",
          "data": {
            "text/plain": [
              "                   title  totalRatings\n",
              "0  !Women Art Revolution           907\n",
              "1    $1,000 on the Black             1\n",
              "2               $5 a Day           139\n",
              "3            'Gator Bait           199\n",
              "4                'R Xmas            84"
            ],
            "text/html": [
              "\n",
              "  <div id=\"df-4e5aba60-daa0-457c-9293-6fc93c24ae3d\">\n",
              "    <div class=\"colab-df-container\">\n",
              "      <div>\n",
              "<style scoped>\n",
              "    .dataframe tbody tr th:only-of-type {\n",
              "        vertical-align: middle;\n",
              "    }\n",
              "\n",
              "    .dataframe tbody tr th {\n",
              "        vertical-align: top;\n",
              "    }\n",
              "\n",
              "    .dataframe thead th {\n",
              "        text-align: right;\n",
              "    }\n",
              "</style>\n",
              "<table border=\"1\" class=\"dataframe\">\n",
              "  <thead>\n",
              "    <tr style=\"text-align: right;\">\n",
              "      <th></th>\n",
              "      <th>title</th>\n",
              "      <th>totalRatings</th>\n",
              "    </tr>\n",
              "  </thead>\n",
              "  <tbody>\n",
              "    <tr>\n",
              "      <th>0</th>\n",
              "      <td>!Women Art Revolution</td>\n",
              "      <td>907</td>\n",
              "    </tr>\n",
              "    <tr>\n",
              "      <th>1</th>\n",
              "      <td>$1,000 on the Black</td>\n",
              "      <td>1</td>\n",
              "    </tr>\n",
              "    <tr>\n",
              "      <th>2</th>\n",
              "      <td>$5 a Day</td>\n",
              "      <td>139</td>\n",
              "    </tr>\n",
              "    <tr>\n",
              "      <th>3</th>\n",
              "      <td>'Gator Bait</td>\n",
              "      <td>199</td>\n",
              "    </tr>\n",
              "    <tr>\n",
              "      <th>4</th>\n",
              "      <td>'R Xmas</td>\n",
              "      <td>84</td>\n",
              "    </tr>\n",
              "  </tbody>\n",
              "</table>\n",
              "</div>\n",
              "      <button class=\"colab-df-convert\" onclick=\"convertToInteractive('df-4e5aba60-daa0-457c-9293-6fc93c24ae3d')\"\n",
              "              title=\"Convert this dataframe to an interactive table.\"\n",
              "              style=\"display:none;\">\n",
              "        \n",
              "  <svg xmlns=\"http://www.w3.org/2000/svg\" height=\"24px\"viewBox=\"0 0 24 24\"\n",
              "       width=\"24px\">\n",
              "    <path d=\"M0 0h24v24H0V0z\" fill=\"none\"/>\n",
              "    <path d=\"M18.56 5.44l.94 2.06.94-2.06 2.06-.94-2.06-.94-.94-2.06-.94 2.06-2.06.94zm-11 1L8.5 8.5l.94-2.06 2.06-.94-2.06-.94L8.5 2.5l-.94 2.06-2.06.94zm10 10l.94 2.06.94-2.06 2.06-.94-2.06-.94-.94-2.06-.94 2.06-2.06.94z\"/><path d=\"M17.41 7.96l-1.37-1.37c-.4-.4-.92-.59-1.43-.59-.52 0-1.04.2-1.43.59L10.3 9.45l-7.72 7.72c-.78.78-.78 2.05 0 2.83L4 21.41c.39.39.9.59 1.41.59.51 0 1.02-.2 1.41-.59l7.78-7.78 2.81-2.81c.8-.78.8-2.07 0-2.86zM5.41 20L4 18.59l7.72-7.72 1.47 1.35L5.41 20z\"/>\n",
              "  </svg>\n",
              "      </button>\n",
              "      \n",
              "  <style>\n",
              "    .colab-df-container {\n",
              "      display:flex;\n",
              "      flex-wrap:wrap;\n",
              "      gap: 12px;\n",
              "    }\n",
              "\n",
              "    .colab-df-convert {\n",
              "      background-color: #E8F0FE;\n",
              "      border: none;\n",
              "      border-radius: 50%;\n",
              "      cursor: pointer;\n",
              "      display: none;\n",
              "      fill: #1967D2;\n",
              "      height: 32px;\n",
              "      padding: 0 0 0 0;\n",
              "      width: 32px;\n",
              "    }\n",
              "\n",
              "    .colab-df-convert:hover {\n",
              "      background-color: #E2EBFA;\n",
              "      box-shadow: 0px 1px 2px rgba(60, 64, 67, 0.3), 0px 1px 3px 1px rgba(60, 64, 67, 0.15);\n",
              "      fill: #174EA6;\n",
              "    }\n",
              "\n",
              "    [theme=dark] .colab-df-convert {\n",
              "      background-color: #3B4455;\n",
              "      fill: #D2E3FC;\n",
              "    }\n",
              "\n",
              "    [theme=dark] .colab-df-convert:hover {\n",
              "      background-color: #434B5C;\n",
              "      box-shadow: 0px 1px 3px 1px rgba(0, 0, 0, 0.15);\n",
              "      filter: drop-shadow(0px 1px 2px rgba(0, 0, 0, 0.3));\n",
              "      fill: #FFFFFF;\n",
              "    }\n",
              "  </style>\n",
              "\n",
              "      <script>\n",
              "        const buttonEl =\n",
              "          document.querySelector('#df-4e5aba60-daa0-457c-9293-6fc93c24ae3d button.colab-df-convert');\n",
              "        buttonEl.style.display =\n",
              "          google.colab.kernel.accessAllowed ? 'block' : 'none';\n",
              "\n",
              "        async function convertToInteractive(key) {\n",
              "          const element = document.querySelector('#df-4e5aba60-daa0-457c-9293-6fc93c24ae3d');\n",
              "          const dataTable =\n",
              "            await google.colab.kernel.invokeFunction('convertToInteractive',\n",
              "                                                     [key], {});\n",
              "          if (!dataTable) return;\n",
              "\n",
              "          const docLinkHtml = 'Like what you see? Visit the ' +\n",
              "            '<a target=\"_blank\" href=https://colab.research.google.com/notebooks/data_table.ipynb>data table notebook</a>'\n",
              "            + ' to learn more about interactive tables.';\n",
              "          element.innerHTML = '';\n",
              "          dataTable['output_type'] = 'display_data';\n",
              "          await google.colab.output.renderOutput(dataTable, element);\n",
              "          const docLink = document.createElement('div');\n",
              "          docLink.innerHTML = docLinkHtml;\n",
              "          element.appendChild(docLink);\n",
              "        }\n",
              "      </script>\n",
              "    </div>\n",
              "  </div>\n",
              "  "
            ]
          },
          "metadata": {},
          "execution_count": 24
        }
      ]
    },
    {
      "cell_type": "code",
      "metadata": {
        "_uuid": "1a966422a2671ad2107081c825a80cbd28051280",
        "id": "pxOSj_d2Ca4x"
      },
      "source": [
        "ratings_total = pd.merge(ratings,ratings_count,on='title',how='left')"
      ],
      "execution_count": null,
      "outputs": []
    },
    {
      "cell_type": "code",
      "metadata": {
        "_uuid": "f799a7eaf97312637670c4ef8ced4d0b1eb2f7ce",
        "id": "zUtnXvY9Ca4x",
        "colab": {
          "base_uri": "https://localhost:8080/"
        },
        "outputId": "dd3397f7-1cc5-4824-dfe2-dabcda06f241"
      },
      "source": [
        "ratings_total.shape"
      ],
      "execution_count": null,
      "outputs": [
        {
          "output_type": "execute_result",
          "data": {
            "text/plain": [
              "(10434471, 5)"
            ]
          },
          "metadata": {},
          "execution_count": 26
        }
      ]
    },
    {
      "cell_type": "code",
      "metadata": {
        "_uuid": "5489849b5e5baa825ff31892e8880fde7f1cec5e",
        "id": "iZGQiS2JCa4y",
        "colab": {
          "base_uri": "https://localhost:8080/"
        },
        "outputId": "41c17cb4-4b9b-4e1c-c8b1-b8e80072a76d"
      },
      "source": [
        "ratings_total.head()"
      ],
      "execution_count": null,
      "outputs": [
        {
          "output_type": "execute_result",
          "data": {
            "text/plain": [
              "   userId  movieId  rating                               title  totalRatings\n",
              "0       1      296     5.0  Terminator 3: Rise of the Machines         79672\n",
              "1       3      296     5.0  Terminator 3: Rise of the Machines         79672\n",
              "2       4      296     4.0  Terminator 3: Rise of the Machines         79672\n",
              "3       5      296     4.0  Terminator 3: Rise of the Machines         79672\n",
              "4       7      296     4.0  Terminator 3: Rise of the Machines         79672"
            ],
            "text/html": [
              "\n",
              "  <div id=\"df-09d28e35-2ac3-448d-aadc-12c8d6a46e4a\">\n",
              "    <div class=\"colab-df-container\">\n",
              "      <div>\n",
              "<style scoped>\n",
              "    .dataframe tbody tr th:only-of-type {\n",
              "        vertical-align: middle;\n",
              "    }\n",
              "\n",
              "    .dataframe tbody tr th {\n",
              "        vertical-align: top;\n",
              "    }\n",
              "\n",
              "    .dataframe thead th {\n",
              "        text-align: right;\n",
              "    }\n",
              "</style>\n",
              "<table border=\"1\" class=\"dataframe\">\n",
              "  <thead>\n",
              "    <tr style=\"text-align: right;\">\n",
              "      <th></th>\n",
              "      <th>userId</th>\n",
              "      <th>movieId</th>\n",
              "      <th>rating</th>\n",
              "      <th>title</th>\n",
              "      <th>totalRatings</th>\n",
              "    </tr>\n",
              "  </thead>\n",
              "  <tbody>\n",
              "    <tr>\n",
              "      <th>0</th>\n",
              "      <td>1</td>\n",
              "      <td>296</td>\n",
              "      <td>5.0</td>\n",
              "      <td>Terminator 3: Rise of the Machines</td>\n",
              "      <td>79672</td>\n",
              "    </tr>\n",
              "    <tr>\n",
              "      <th>1</th>\n",
              "      <td>3</td>\n",
              "      <td>296</td>\n",
              "      <td>5.0</td>\n",
              "      <td>Terminator 3: Rise of the Machines</td>\n",
              "      <td>79672</td>\n",
              "    </tr>\n",
              "    <tr>\n",
              "      <th>2</th>\n",
              "      <td>4</td>\n",
              "      <td>296</td>\n",
              "      <td>4.0</td>\n",
              "      <td>Terminator 3: Rise of the Machines</td>\n",
              "      <td>79672</td>\n",
              "    </tr>\n",
              "    <tr>\n",
              "      <th>3</th>\n",
              "      <td>5</td>\n",
              "      <td>296</td>\n",
              "      <td>4.0</td>\n",
              "      <td>Terminator 3: Rise of the Machines</td>\n",
              "      <td>79672</td>\n",
              "    </tr>\n",
              "    <tr>\n",
              "      <th>4</th>\n",
              "      <td>7</td>\n",
              "      <td>296</td>\n",
              "      <td>4.0</td>\n",
              "      <td>Terminator 3: Rise of the Machines</td>\n",
              "      <td>79672</td>\n",
              "    </tr>\n",
              "  </tbody>\n",
              "</table>\n",
              "</div>\n",
              "      <button class=\"colab-df-convert\" onclick=\"convertToInteractive('df-09d28e35-2ac3-448d-aadc-12c8d6a46e4a')\"\n",
              "              title=\"Convert this dataframe to an interactive table.\"\n",
              "              style=\"display:none;\">\n",
              "        \n",
              "  <svg xmlns=\"http://www.w3.org/2000/svg\" height=\"24px\"viewBox=\"0 0 24 24\"\n",
              "       width=\"24px\">\n",
              "    <path d=\"M0 0h24v24H0V0z\" fill=\"none\"/>\n",
              "    <path d=\"M18.56 5.44l.94 2.06.94-2.06 2.06-.94-2.06-.94-.94-2.06-.94 2.06-2.06.94zm-11 1L8.5 8.5l.94-2.06 2.06-.94-2.06-.94L8.5 2.5l-.94 2.06-2.06.94zm10 10l.94 2.06.94-2.06 2.06-.94-2.06-.94-.94-2.06-.94 2.06-2.06.94z\"/><path d=\"M17.41 7.96l-1.37-1.37c-.4-.4-.92-.59-1.43-.59-.52 0-1.04.2-1.43.59L10.3 9.45l-7.72 7.72c-.78.78-.78 2.05 0 2.83L4 21.41c.39.39.9.59 1.41.59.51 0 1.02-.2 1.41-.59l7.78-7.78 2.81-2.81c.8-.78.8-2.07 0-2.86zM5.41 20L4 18.59l7.72-7.72 1.47 1.35L5.41 20z\"/>\n",
              "  </svg>\n",
              "      </button>\n",
              "      \n",
              "  <style>\n",
              "    .colab-df-container {\n",
              "      display:flex;\n",
              "      flex-wrap:wrap;\n",
              "      gap: 12px;\n",
              "    }\n",
              "\n",
              "    .colab-df-convert {\n",
              "      background-color: #E8F0FE;\n",
              "      border: none;\n",
              "      border-radius: 50%;\n",
              "      cursor: pointer;\n",
              "      display: none;\n",
              "      fill: #1967D2;\n",
              "      height: 32px;\n",
              "      padding: 0 0 0 0;\n",
              "      width: 32px;\n",
              "    }\n",
              "\n",
              "    .colab-df-convert:hover {\n",
              "      background-color: #E2EBFA;\n",
              "      box-shadow: 0px 1px 2px rgba(60, 64, 67, 0.3), 0px 1px 3px 1px rgba(60, 64, 67, 0.15);\n",
              "      fill: #174EA6;\n",
              "    }\n",
              "\n",
              "    [theme=dark] .colab-df-convert {\n",
              "      background-color: #3B4455;\n",
              "      fill: #D2E3FC;\n",
              "    }\n",
              "\n",
              "    [theme=dark] .colab-df-convert:hover {\n",
              "      background-color: #434B5C;\n",
              "      box-shadow: 0px 1px 3px 1px rgba(0, 0, 0, 0.15);\n",
              "      filter: drop-shadow(0px 1px 2px rgba(0, 0, 0, 0.3));\n",
              "      fill: #FFFFFF;\n",
              "    }\n",
              "  </style>\n",
              "\n",
              "      <script>\n",
              "        const buttonEl =\n",
              "          document.querySelector('#df-09d28e35-2ac3-448d-aadc-12c8d6a46e4a button.colab-df-convert');\n",
              "        buttonEl.style.display =\n",
              "          google.colab.kernel.accessAllowed ? 'block' : 'none';\n",
              "\n",
              "        async function convertToInteractive(key) {\n",
              "          const element = document.querySelector('#df-09d28e35-2ac3-448d-aadc-12c8d6a46e4a');\n",
              "          const dataTable =\n",
              "            await google.colab.kernel.invokeFunction('convertToInteractive',\n",
              "                                                     [key], {});\n",
              "          if (!dataTable) return;\n",
              "\n",
              "          const docLinkHtml = 'Like what you see? Visit the ' +\n",
              "            '<a target=\"_blank\" href=https://colab.research.google.com/notebooks/data_table.ipynb>data table notebook</a>'\n",
              "            + ' to learn more about interactive tables.';\n",
              "          element.innerHTML = '';\n",
              "          dataTable['output_type'] = 'display_data';\n",
              "          await google.colab.output.renderOutput(dataTable, element);\n",
              "          const docLink = document.createElement('div');\n",
              "          docLink.innerHTML = docLinkHtml;\n",
              "          element.appendChild(docLink);\n",
              "        }\n",
              "      </script>\n",
              "    </div>\n",
              "  </div>\n",
              "  "
            ]
          },
          "metadata": {},
          "execution_count": 27
        }
      ]
    },
    {
      "cell_type": "code",
      "metadata": {
        "_uuid": "d23c91f730985416aef2a4fb1eafefc35e5c27be",
        "id": "I4znwGnYCa4y",
        "colab": {
          "base_uri": "https://localhost:8080/"
        },
        "outputId": "42dfd1b4-ddde-4afa-9604-5c60feaccf1e"
      },
      "source": [
        "ratings_count['totalRatings'].describe()"
      ],
      "execution_count": null,
      "outputs": [
        {
          "output_type": "execute_result",
          "data": {
            "text/plain": [
              "count     7812.000000\n",
              "mean      1335.697773\n",
              "std       4781.327645\n",
              "min          1.000000\n",
              "25%          6.000000\n",
              "50%         38.000000\n",
              "75%        394.250000\n",
              "max      81482.000000\n",
              "Name: totalRatings, dtype: float64"
            ]
          },
          "metadata": {},
          "execution_count": 28
        }
      ]
    },
    {
      "cell_type": "code",
      "metadata": {
        "_uuid": "f095e7016c4530a3535ddfef5a145cd2557f868f",
        "id": "1-LzkafxCa4z",
        "colab": {
          "base_uri": "https://localhost:8080/"
        },
        "outputId": "69566f49-72fa-4ca4-e3c4-9fd2428f7ccb"
      },
      "source": [
        "ratings_count['totalRatings'].quantile(np.arange(.6,1,0.01))"
      ],
      "execution_count": null,
      "outputs": [
        {
          "output_type": "execute_result",
          "data": {
            "text/plain": [
              "0.60       85.60\n",
              "0.61       94.00\n",
              "0.62      103.00\n",
              "0.63      112.00\n",
              "0.64      124.00\n",
              "0.65      137.00\n",
              "0.66      150.26\n",
              "0.67      167.00\n",
              "0.68      185.00\n",
              "0.69      200.00\n",
              "0.70      219.00\n",
              "0.71      244.00\n",
              "0.72      281.92\n",
              "0.73      312.00\n",
              "0.74      349.00\n",
              "0.75      394.25\n",
              "0.76      440.00\n",
              "0.77      503.47\n",
              "0.78      565.58\n",
              "0.79      636.69\n",
              "0.80      720.80\n",
              "0.81      834.91\n",
              "0.82      958.00\n",
              "0.83     1057.00\n",
              "0.84     1202.00\n",
              "0.85     1356.35\n",
              "0.86     1550.76\n",
              "0.87     1774.56\n",
              "0.88     2130.68\n",
              "0.89     2497.37\n",
              "0.90     2899.80\n",
              "0.91     3458.01\n",
              "0.92     4099.24\n",
              "0.93     4756.69\n",
              "0.94     5788.02\n",
              "0.95     7339.35\n",
              "0.96     9174.56\n",
              "0.97    11581.11\n",
              "0.98    15457.24\n",
              "0.99    23746.72\n",
              "Name: totalRatings, dtype: float64"
            ]
          },
          "metadata": {},
          "execution_count": 29
        }
      ]
    },
    {
      "cell_type": "code",
      "metadata": {
        "_uuid": "bf3e96a3377a131c29b297026e17f861389e8f52",
        "id": "Ys_Pr3ZHCa4z"
      },
      "source": [
        "votes_count_threshold = 20"
      ],
      "execution_count": null,
      "outputs": []
    },
    {
      "cell_type": "code",
      "metadata": {
        "_uuid": "d857135508d5e0b0a03d360048d811722357572c",
        "id": "mFII87B3Ca4z"
      },
      "source": [
        "ratings_top = ratings_total.query('totalRatings > @votes_count_threshold')"
      ],
      "execution_count": null,
      "outputs": []
    },
    {
      "cell_type": "code",
      "metadata": {
        "_uuid": "66553621bfa467170123957c718f04e41914bb69",
        "id": "GLaaNSkuCa4z",
        "colab": {
          "base_uri": "https://localhost:8080/"
        },
        "outputId": "d503ef0c-917d-44c6-be70-95c5e95e16fa"
      },
      "source": [
        "ratings_top.shape"
      ],
      "execution_count": null,
      "outputs": [
        {
          "output_type": "execute_result",
          "data": {
            "text/plain": [
              "(10414278, 5)"
            ]
          },
          "metadata": {},
          "execution_count": 32
        }
      ]
    },
    {
      "cell_type": "code",
      "metadata": {
        "_uuid": "054f0b376f68e336c7966bc6056ec1fc60982024",
        "id": "qBTZ9x6ECa40",
        "colab": {
          "base_uri": "https://localhost:8080/"
        },
        "outputId": "7f719cc5-507b-4a56-b148-e82e60129bb2"
      },
      "source": [
        "ratings_top.head()"
      ],
      "execution_count": null,
      "outputs": [
        {
          "output_type": "execute_result",
          "data": {
            "text/plain": [
              "   userId  movieId  rating                               title  totalRatings\n",
              "0       1      296     5.0  Terminator 3: Rise of the Machines         79672\n",
              "1       3      296     5.0  Terminator 3: Rise of the Machines         79672\n",
              "2       4      296     4.0  Terminator 3: Rise of the Machines         79672\n",
              "3       5      296     4.0  Terminator 3: Rise of the Machines         79672\n",
              "4       7      296     4.0  Terminator 3: Rise of the Machines         79672"
            ],
            "text/html": [
              "\n",
              "  <div id=\"df-22ae7b51-9960-4959-a9c6-4230ff85db1c\">\n",
              "    <div class=\"colab-df-container\">\n",
              "      <div>\n",
              "<style scoped>\n",
              "    .dataframe tbody tr th:only-of-type {\n",
              "        vertical-align: middle;\n",
              "    }\n",
              "\n",
              "    .dataframe tbody tr th {\n",
              "        vertical-align: top;\n",
              "    }\n",
              "\n",
              "    .dataframe thead th {\n",
              "        text-align: right;\n",
              "    }\n",
              "</style>\n",
              "<table border=\"1\" class=\"dataframe\">\n",
              "  <thead>\n",
              "    <tr style=\"text-align: right;\">\n",
              "      <th></th>\n",
              "      <th>userId</th>\n",
              "      <th>movieId</th>\n",
              "      <th>rating</th>\n",
              "      <th>title</th>\n",
              "      <th>totalRatings</th>\n",
              "    </tr>\n",
              "  </thead>\n",
              "  <tbody>\n",
              "    <tr>\n",
              "      <th>0</th>\n",
              "      <td>1</td>\n",
              "      <td>296</td>\n",
              "      <td>5.0</td>\n",
              "      <td>Terminator 3: Rise of the Machines</td>\n",
              "      <td>79672</td>\n",
              "    </tr>\n",
              "    <tr>\n",
              "      <th>1</th>\n",
              "      <td>3</td>\n",
              "      <td>296</td>\n",
              "      <td>5.0</td>\n",
              "      <td>Terminator 3: Rise of the Machines</td>\n",
              "      <td>79672</td>\n",
              "    </tr>\n",
              "    <tr>\n",
              "      <th>2</th>\n",
              "      <td>4</td>\n",
              "      <td>296</td>\n",
              "      <td>4.0</td>\n",
              "      <td>Terminator 3: Rise of the Machines</td>\n",
              "      <td>79672</td>\n",
              "    </tr>\n",
              "    <tr>\n",
              "      <th>3</th>\n",
              "      <td>5</td>\n",
              "      <td>296</td>\n",
              "      <td>4.0</td>\n",
              "      <td>Terminator 3: Rise of the Machines</td>\n",
              "      <td>79672</td>\n",
              "    </tr>\n",
              "    <tr>\n",
              "      <th>4</th>\n",
              "      <td>7</td>\n",
              "      <td>296</td>\n",
              "      <td>4.0</td>\n",
              "      <td>Terminator 3: Rise of the Machines</td>\n",
              "      <td>79672</td>\n",
              "    </tr>\n",
              "  </tbody>\n",
              "</table>\n",
              "</div>\n",
              "      <button class=\"colab-df-convert\" onclick=\"convertToInteractive('df-22ae7b51-9960-4959-a9c6-4230ff85db1c')\"\n",
              "              title=\"Convert this dataframe to an interactive table.\"\n",
              "              style=\"display:none;\">\n",
              "        \n",
              "  <svg xmlns=\"http://www.w3.org/2000/svg\" height=\"24px\"viewBox=\"0 0 24 24\"\n",
              "       width=\"24px\">\n",
              "    <path d=\"M0 0h24v24H0V0z\" fill=\"none\"/>\n",
              "    <path d=\"M18.56 5.44l.94 2.06.94-2.06 2.06-.94-2.06-.94-.94-2.06-.94 2.06-2.06.94zm-11 1L8.5 8.5l.94-2.06 2.06-.94-2.06-.94L8.5 2.5l-.94 2.06-2.06.94zm10 10l.94 2.06.94-2.06 2.06-.94-2.06-.94-.94-2.06-.94 2.06-2.06.94z\"/><path d=\"M17.41 7.96l-1.37-1.37c-.4-.4-.92-.59-1.43-.59-.52 0-1.04.2-1.43.59L10.3 9.45l-7.72 7.72c-.78.78-.78 2.05 0 2.83L4 21.41c.39.39.9.59 1.41.59.51 0 1.02-.2 1.41-.59l7.78-7.78 2.81-2.81c.8-.78.8-2.07 0-2.86zM5.41 20L4 18.59l7.72-7.72 1.47 1.35L5.41 20z\"/>\n",
              "  </svg>\n",
              "      </button>\n",
              "      \n",
              "  <style>\n",
              "    .colab-df-container {\n",
              "      display:flex;\n",
              "      flex-wrap:wrap;\n",
              "      gap: 12px;\n",
              "    }\n",
              "\n",
              "    .colab-df-convert {\n",
              "      background-color: #E8F0FE;\n",
              "      border: none;\n",
              "      border-radius: 50%;\n",
              "      cursor: pointer;\n",
              "      display: none;\n",
              "      fill: #1967D2;\n",
              "      height: 32px;\n",
              "      padding: 0 0 0 0;\n",
              "      width: 32px;\n",
              "    }\n",
              "\n",
              "    .colab-df-convert:hover {\n",
              "      background-color: #E2EBFA;\n",
              "      box-shadow: 0px 1px 2px rgba(60, 64, 67, 0.3), 0px 1px 3px 1px rgba(60, 64, 67, 0.15);\n",
              "      fill: #174EA6;\n",
              "    }\n",
              "\n",
              "    [theme=dark] .colab-df-convert {\n",
              "      background-color: #3B4455;\n",
              "      fill: #D2E3FC;\n",
              "    }\n",
              "\n",
              "    [theme=dark] .colab-df-convert:hover {\n",
              "      background-color: #434B5C;\n",
              "      box-shadow: 0px 1px 3px 1px rgba(0, 0, 0, 0.15);\n",
              "      filter: drop-shadow(0px 1px 2px rgba(0, 0, 0, 0.3));\n",
              "      fill: #FFFFFF;\n",
              "    }\n",
              "  </style>\n",
              "\n",
              "      <script>\n",
              "        const buttonEl =\n",
              "          document.querySelector('#df-22ae7b51-9960-4959-a9c6-4230ff85db1c button.colab-df-convert');\n",
              "        buttonEl.style.display =\n",
              "          google.colab.kernel.accessAllowed ? 'block' : 'none';\n",
              "\n",
              "        async function convertToInteractive(key) {\n",
              "          const element = document.querySelector('#df-22ae7b51-9960-4959-a9c6-4230ff85db1c');\n",
              "          const dataTable =\n",
              "            await google.colab.kernel.invokeFunction('convertToInteractive',\n",
              "                                                     [key], {});\n",
              "          if (!dataTable) return;\n",
              "\n",
              "          const docLinkHtml = 'Like what you see? Visit the ' +\n",
              "            '<a target=\"_blank\" href=https://colab.research.google.com/notebooks/data_table.ipynb>data table notebook</a>'\n",
              "            + ' to learn more about interactive tables.';\n",
              "          element.innerHTML = '';\n",
              "          dataTable['output_type'] = 'display_data';\n",
              "          await google.colab.output.renderOutput(dataTable, element);\n",
              "          const docLink = document.createElement('div');\n",
              "          docLink.innerHTML = docLinkHtml;\n",
              "          element.appendChild(docLink);\n",
              "        }\n",
              "      </script>\n",
              "    </div>\n",
              "  </div>\n",
              "  "
            ]
          },
          "metadata": {},
          "execution_count": 33
        }
      ]
    },
    {
      "cell_type": "code",
      "metadata": {
        "_uuid": "f44a8acca9d831d1057133ba86883fcc8a646e00",
        "id": "JbnL-5JXCa40"
      },
      "source": [
        "if not ratings_top[ratings_top.duplicated(['userId','title'])].empty:\n",
        "    ratings_top = ratings_top.drop_duplicates(['userId','title'])"
      ],
      "execution_count": null,
      "outputs": []
    },
    {
      "cell_type": "code",
      "metadata": {
        "_uuid": "1563d9948171d5069b8499a6ff63261a7632d9a2",
        "id": "L5p58ecBCa40",
        "colab": {
          "base_uri": "https://localhost:8080/"
        },
        "outputId": "c962a1a0-43eb-4465-aecd-193c5bc0d304"
      },
      "source": [
        "ratings_top.shape"
      ],
      "execution_count": null,
      "outputs": [
        {
          "output_type": "execute_result",
          "data": {
            "text/plain": [
              "(10381702, 5)"
            ]
          },
          "metadata": {},
          "execution_count": 35
        }
      ]
    },
    {
      "cell_type": "markdown",
      "metadata": {
        "_uuid": "7536c5e482c7b23912ed884b025331b9e9fcf0d9",
        "id": "nN8smeTKCa40"
      },
      "source": [
        "Reshape the data using pivot function"
      ]
    },
    {
      "cell_type": "code",
      "metadata": {
        "_uuid": "0e8fa9f6d81386fd8456201db61a5e1dbf55468a",
        "id": "MkmvJj0DCa42"
      },
      "source": [
        "df_for_knn = ratings_top.pivot(index='title',columns='userId',values='rating').fillna(0) "
      ],
      "execution_count": null,
      "outputs": []
    },
    {
      "cell_type": "code",
      "metadata": {
        "_uuid": "f6636c60ea512d64bd8c15c3f71bf2bd045ddb58",
        "id": "qGxyqeA6Ca42"
      },
      "source": [
        "df_for_knn.head()"
      ],
      "execution_count": null,
      "outputs": []
    },
    {
      "cell_type": "code",
      "metadata": {
        "_uuid": "64a1f26b87d96a5095171b884aefe7f4208aa6a7",
        "id": "l3KOjfPPCa42"
      },
      "source": [
        "df_for_knn.shape"
      ],
      "execution_count": null,
      "outputs": []
    },
    {
      "cell_type": "markdown",
      "metadata": {
        "_uuid": "3e2754b3bf10ebcbe15c513ceae9e60078c838ba",
        "id": "mvn17o9vCa43"
      },
      "source": [
        "Let's use sparse matrix representation of this matrix"
      ]
    },
    {
      "cell_type": "code",
      "metadata": {
        "_uuid": "6c1ef395c986c09b4b9e095528d863137b6ce49a",
        "id": "a7XpAOt-Ca43"
      },
      "source": [
        "from scipy.sparse import csr_matrix"
      ],
      "execution_count": null,
      "outputs": []
    },
    {
      "cell_type": "code",
      "metadata": {
        "_uuid": "fe9930633000e1260b46ed877510a369f7094239",
        "id": "CsPs3DAoCa43"
      },
      "source": [
        "df_for_knn_sparse = csr_matrix(df_for_knn.values) "
      ],
      "execution_count": null,
      "outputs": []
    },
    {
      "cell_type": "markdown",
      "metadata": {
        "_uuid": "70623b2b11c6ab3a60568f5a315b61153695f0e0",
        "id": "9hfKPgu1Ca43"
      },
      "source": [
        "## Recommendations using KNearestNeighbors method"
      ]
    },
    {
      "cell_type": "code",
      "metadata": {
        "_uuid": "a4c58b63fbe9cb6d2dc54f5d612a0f09cfffc67a",
        "id": "qtHeKZ9aCa43"
      },
      "source": [
        "from sklearn.neighbors import NearestNeighbors"
      ],
      "execution_count": null,
      "outputs": []
    },
    {
      "cell_type": "code",
      "metadata": {
        "_uuid": "fb814e024a24013a52707bb302b03f3388159838",
        "id": "_dLoyYBUCa44"
      },
      "source": [
        "model_knn = NearestNeighbors(metric='cosine',algorithm='brute')"
      ],
      "execution_count": null,
      "outputs": []
    },
    {
      "cell_type": "code",
      "metadata": {
        "_uuid": "ed62ad5656579730026391741285b785321f659d",
        "id": "R9jnBa2ZCa44"
      },
      "source": [
        "model_knn.fit(df_for_knn_sparse)"
      ],
      "execution_count": null,
      "outputs": []
    },
    {
      "cell_type": "code",
      "metadata": {
        "_uuid": "f0c946f3350578aa9c3df3ded583ddb3aa202708",
        "id": "jm96AzmTCa44"
      },
      "source": [
        "query_index = np.random.choice(df_for_knn.shape[0])"
      ],
      "execution_count": null,
      "outputs": []
    },
    {
      "cell_type": "code",
      "metadata": {
        "_uuid": "64f2105295baea2d6e497bfa5bb4ad6d10e5666c",
        "id": "w2S02QRvCa44"
      },
      "source": [
        "distances, indices = model_knn.kneighbors(df_for_knn.loc['Batman Returns'].values.reshape(1,-1),n_neighbors=6)"
      ],
      "execution_count": null,
      "outputs": []
    },
    {
      "cell_type": "code",
      "metadata": {
        "_uuid": "8fb2248d23be8f3d85b2e3f053aa1978b01f72b6",
        "id": "g4Ys4o5wCa44"
      },
      "source": [
        "distances, indices = model_knn.kneighbors(df_for_knn.iloc[query_index,:].values.reshape(1,-1),n_neighbors=6)"
      ],
      "execution_count": null,
      "outputs": []
    },
    {
      "cell_type": "code",
      "metadata": {
        "_uuid": "e970147841a390db4cfc33ea6853f6220876a74c",
        "id": "JEXdfrpMCa44"
      },
      "source": [
        "for i in range(0,len(distances.flatten())):\n",
        "    if i==0:\n",
        "        print(\"Recommendations for movie: {0}\\n\".format(df_for_knn.index[query_index]))\n",
        "    else:\n",
        "        print(\"{0}: {1}, with distance of {2}\".format(i,df_for_knn.index[indices.flatten()[i]],distances.flatten()[i]))"
      ],
      "execution_count": null,
      "outputs": []
    },
    {
      "cell_type": "code",
      "source": [],
      "metadata": {
        "id": "S_6ca8de6V6v"
      },
      "execution_count": null,
      "outputs": []
    }
  ]
}